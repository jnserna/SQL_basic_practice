{
 "cells": [
  {
   "cell_type": "markdown",
   "id": "3a25a5ba-ab0b-4e90-8043-bbe3408e9047",
   "metadata": {},
   "source": [
    "Now We are going to run some SQL queries here in the notebook. These queries also work on SQLiteStudio."
   ]
  },
  {
   "cell_type": "markdown",
   "id": "a5d870c1-05c0-4ed0-9db7-17856a8cd58f",
   "metadata": {},
   "source": [
    "Ahora vamos a ejecutar acá en el Notebook algunas consultas de SQL. Estas consultas también funcionan en el SQLiteStudio."
   ]
  },
  {
   "cell_type": "markdown",
   "id": "5fcc1afd-65cf-4f27-b78f-d32c465afe30",
   "metadata": {},
   "source": [
    "### Libraries and read files"
   ]
  },
  {
   "cell_type": "code",
   "execution_count": 1,
   "id": "42a3cbca-3eae-43a3-a749-4b77bf461b81",
   "metadata": {
    "tags": []
   },
   "outputs": [],
   "source": [
    "import pandas as pd\n",
    "import numpy as np\n",
    "from pandasql import sqldf"
   ]
  },
  {
   "cell_type": "code",
   "execution_count": 2,
   "id": "81463c17-b886-4c5d-aa47-be6413c5235c",
   "metadata": {
    "tags": []
   },
   "outputs": [],
   "source": [
    "# Lectura de archivos\n",
    "courses = pd.read_csv(\"C:/Users/usuario/%Python/sql-practice/courses.csv\")\n",
    "instructors = pd.read_csv(\"C:/Users/usuario/%Python/sql-practice/instructors.csv\")\n",
    "schools = pd.read_csv(\"C:/Users/usuario/%Python/sql-practice/schools.csv\")\n",
    "users = pd.read_csv(\"C:/Users/usuario/%Python/sql-practice/users.csv\")\n",
    "submissions = pd.read_csv(\"C:/Users/usuario/%Python/sql-practice/submissions.csv\")"
   ]
  },
  {
   "cell_type": "code",
   "execution_count": 3,
   "id": "dd1e2b31-b742-44d1-9c07-ec63ec2ab69d",
   "metadata": {
    "tags": []
   },
   "outputs": [
    {
     "data": {
      "text/html": [
       "<div>\n",
       "<style scoped>\n",
       "    .dataframe tbody tr th:only-of-type {\n",
       "        vertical-align: middle;\n",
       "    }\n",
       "\n",
       "    .dataframe tbody tr th {\n",
       "        vertical-align: top;\n",
       "    }\n",
       "\n",
       "    .dataframe thead th {\n",
       "        text-align: right;\n",
       "    }\n",
       "</style>\n",
       "<table border=\"1\" class=\"dataframe\">\n",
       "  <thead>\n",
       "    <tr style=\"text-align: right;\">\n",
       "      <th></th>\n",
       "      <th>id</th>\n",
       "      <th>course_name</th>\n",
       "      <th>date_created</th>\n",
       "      <th>school_id</th>\n",
       "      <th>public_course</th>\n",
       "      <th>category</th>\n",
       "      <th>sync_date</th>\n",
       "    </tr>\n",
       "  </thead>\n",
       "  <tbody>\n",
       "    <tr>\n",
       "      <th>0</th>\n",
       "      <td>6900</td>\n",
       "      <td>biology569</td>\n",
       "      <td>2019-11-27 00:00:00</td>\n",
       "      <td>100.0</td>\n",
       "      <td>1</td>\n",
       "      <td>6</td>\n",
       "      <td>2019-11-28 00:00:00</td>\n",
       "    </tr>\n",
       "    <tr>\n",
       "      <th>1</th>\n",
       "      <td>6901</td>\n",
       "      <td>biology1049</td>\n",
       "      <td>2020-08-06 00:00:00</td>\n",
       "      <td>261.0</td>\n",
       "      <td>0</td>\n",
       "      <td>8</td>\n",
       "      <td>2020-08-07 00:00:00</td>\n",
       "    </tr>\n",
       "    <tr>\n",
       "      <th>2</th>\n",
       "      <td>6902</td>\n",
       "      <td>biology725</td>\n",
       "      <td>2020-03-29 00:00:00</td>\n",
       "      <td>322.0</td>\n",
       "      <td>0</td>\n",
       "      <td>6</td>\n",
       "      <td>2020-03-30 00:00:00</td>\n",
       "    </tr>\n",
       "    <tr>\n",
       "      <th>3</th>\n",
       "      <td>6903</td>\n",
       "      <td>biology427</td>\n",
       "      <td>2020-08-06 00:00:00</td>\n",
       "      <td>54.0</td>\n",
       "      <td>0</td>\n",
       "      <td>7</td>\n",
       "      <td>2020-08-07 00:00:00</td>\n",
       "    </tr>\n",
       "    <tr>\n",
       "      <th>4</th>\n",
       "      <td>6904</td>\n",
       "      <td>biology1139</td>\n",
       "      <td>2019-03-14 00:00:00</td>\n",
       "      <td>218.0</td>\n",
       "      <td>0</td>\n",
       "      <td>8</td>\n",
       "      <td>2019-03-15 00:00:00</td>\n",
       "    </tr>\n",
       "  </tbody>\n",
       "</table>\n",
       "</div>"
      ],
      "text/plain": [
       "     id  course_name         date_created  school_id  public_course  category  \\\n",
       "0  6900   biology569  2019-11-27 00:00:00      100.0              1         6   \n",
       "1  6901  biology1049  2020-08-06 00:00:00      261.0              0         8   \n",
       "2  6902   biology725  2020-03-29 00:00:00      322.0              0         6   \n",
       "3  6903   biology427  2020-08-06 00:00:00       54.0              0         7   \n",
       "4  6904  biology1139  2019-03-14 00:00:00      218.0              0         8   \n",
       "\n",
       "             sync_date  \n",
       "0  2019-11-28 00:00:00  \n",
       "1  2020-08-07 00:00:00  \n",
       "2  2020-03-30 00:00:00  \n",
       "3  2020-08-07 00:00:00  \n",
       "4  2019-03-15 00:00:00  "
      ]
     },
     "execution_count": 3,
     "metadata": {},
     "output_type": "execute_result"
    }
   ],
   "source": [
    "courses.head()"
   ]
  },
  {
   "cell_type": "code",
   "execution_count": 4,
   "id": "677bcdf7-c7c0-45d3-8262-b5fa888e4a53",
   "metadata": {
    "tags": []
   },
   "outputs": [
    {
     "data": {
      "text/html": [
       "<div>\n",
       "<style scoped>\n",
       "    .dataframe tbody tr th:only-of-type {\n",
       "        vertical-align: middle;\n",
       "    }\n",
       "\n",
       "    .dataframe tbody tr th {\n",
       "        vertical-align: top;\n",
       "    }\n",
       "\n",
       "    .dataframe thead th {\n",
       "        text-align: right;\n",
       "    }\n",
       "</style>\n",
       "<table border=\"1\" class=\"dataframe\">\n",
       "  <thead>\n",
       "    <tr style=\"text-align: right;\">\n",
       "      <th></th>\n",
       "      <th>id</th>\n",
       "      <th>school_id</th>\n",
       "      <th>course_id</th>\n",
       "      <th>email</th>\n",
       "      <th>date_created</th>\n",
       "      <th>admin</th>\n",
       "      <th>category</th>\n",
       "      <th>external_id</th>\n",
       "      <th>sync_date</th>\n",
       "    </tr>\n",
       "  </thead>\n",
       "  <tbody>\n",
       "    <tr>\n",
       "      <th>0</th>\n",
       "      <td>6410</td>\n",
       "      <td>757.0</td>\n",
       "      <td>41</td>\n",
       "      <td>64105164@email.com</td>\n",
       "      <td>2019-07-20 00:00:00</td>\n",
       "      <td>0</td>\n",
       "      <td>3</td>\n",
       "      <td>student_8472</td>\n",
       "      <td>2019-07-21 00:00:00</td>\n",
       "    </tr>\n",
       "    <tr>\n",
       "      <th>1</th>\n",
       "      <td>3515</td>\n",
       "      <td>549.0</td>\n",
       "      <td>10</td>\n",
       "      <td>35153981@email.com</td>\n",
       "      <td>2019-10-25 00:00:00</td>\n",
       "      <td>0</td>\n",
       "      <td>8</td>\n",
       "      <td>student_6471</td>\n",
       "      <td>2019-10-26 00:00:00</td>\n",
       "    </tr>\n",
       "    <tr>\n",
       "      <th>2</th>\n",
       "      <td>2866</td>\n",
       "      <td>219.0</td>\n",
       "      <td>55</td>\n",
       "      <td>28662212@email.com</td>\n",
       "      <td>2020-04-19 00:00:00</td>\n",
       "      <td>0</td>\n",
       "      <td>1</td>\n",
       "      <td>student_4156</td>\n",
       "      <td>2020-04-20 00:00:00</td>\n",
       "    </tr>\n",
       "    <tr>\n",
       "      <th>3</th>\n",
       "      <td>4762</td>\n",
       "      <td>727.0</td>\n",
       "      <td>14</td>\n",
       "      <td>47626955@email.com</td>\n",
       "      <td>2019-12-08 00:00:00</td>\n",
       "      <td>1</td>\n",
       "      <td>0</td>\n",
       "      <td>student_9495</td>\n",
       "      <td>2019-12-09 00:00:00</td>\n",
       "    </tr>\n",
       "    <tr>\n",
       "      <th>4</th>\n",
       "      <td>865</td>\n",
       "      <td>465.0</td>\n",
       "      <td>25</td>\n",
       "      <td>8655420@email.com</td>\n",
       "      <td>2020-03-16 00:00:00</td>\n",
       "      <td>0</td>\n",
       "      <td>8</td>\n",
       "      <td>student_3685</td>\n",
       "      <td>2020-03-17 00:00:00</td>\n",
       "    </tr>\n",
       "  </tbody>\n",
       "</table>\n",
       "</div>"
      ],
      "text/plain": [
       "     id  school_id  course_id               email         date_created  admin  \\\n",
       "0  6410      757.0         41  64105164@email.com  2019-07-20 00:00:00      0   \n",
       "1  3515      549.0         10  35153981@email.com  2019-10-25 00:00:00      0   \n",
       "2  2866      219.0         55  28662212@email.com  2020-04-19 00:00:00      0   \n",
       "3  4762      727.0         14  47626955@email.com  2019-12-08 00:00:00      1   \n",
       "4   865      465.0         25   8655420@email.com  2020-03-16 00:00:00      0   \n",
       "\n",
       "   category   external_id            sync_date  \n",
       "0         3  student_8472  2019-07-21 00:00:00  \n",
       "1         8  student_6471  2019-10-26 00:00:00  \n",
       "2         1  student_4156  2020-04-20 00:00:00  \n",
       "3         0  student_9495  2019-12-09 00:00:00  \n",
       "4         8  student_3685  2020-03-17 00:00:00  "
      ]
     },
     "execution_count": 4,
     "metadata": {},
     "output_type": "execute_result"
    }
   ],
   "source": [
    "instructors.head()"
   ]
  },
  {
   "cell_type": "code",
   "execution_count": 5,
   "id": "3e3b3532-40e2-4721-a937-71880d87fafa",
   "metadata": {
    "tags": []
   },
   "outputs": [
    {
     "data": {
      "text/html": [
       "<div>\n",
       "<style scoped>\n",
       "    .dataframe tbody tr th:only-of-type {\n",
       "        vertical-align: middle;\n",
       "    }\n",
       "\n",
       "    .dataframe tbody tr th {\n",
       "        vertical-align: top;\n",
       "    }\n",
       "\n",
       "    .dataframe thead th {\n",
       "        text-align: right;\n",
       "    }\n",
       "</style>\n",
       "<table border=\"1\" class=\"dataframe\">\n",
       "  <thead>\n",
       "    <tr style=\"text-align: right;\">\n",
       "      <th></th>\n",
       "      <th>id</th>\n",
       "      <th>school_name</th>\n",
       "      <th>online_school</th>\n",
       "      <th>category</th>\n",
       "      <th>date_created</th>\n",
       "      <th>lottery</th>\n",
       "      <th>country</th>\n",
       "      <th>sync_date</th>\n",
       "    </tr>\n",
       "  </thead>\n",
       "  <tbody>\n",
       "    <tr>\n",
       "      <th>0</th>\n",
       "      <td>759.0</td>\n",
       "      <td>Universtity of725</td>\n",
       "      <td>0</td>\n",
       "      <td>10</td>\n",
       "      <td>2019-09-07 00:00:00</td>\n",
       "      <td>11</td>\n",
       "      <td>US</td>\n",
       "      <td>2019-09-08 00:00:00</td>\n",
       "    </tr>\n",
       "    <tr>\n",
       "      <th>1</th>\n",
       "      <td>483.0</td>\n",
       "      <td>Universtity of1398</td>\n",
       "      <td>1</td>\n",
       "      <td>8</td>\n",
       "      <td>2019-07-19 00:00:00</td>\n",
       "      <td>19</td>\n",
       "      <td>US</td>\n",
       "      <td>2019-07-20 00:00:00</td>\n",
       "    </tr>\n",
       "    <tr>\n",
       "      <th>2</th>\n",
       "      <td>433.0</td>\n",
       "      <td>Universtity of693</td>\n",
       "      <td>1</td>\n",
       "      <td>10</td>\n",
       "      <td>2019-07-01 00:00:00</td>\n",
       "      <td>5</td>\n",
       "      <td>US</td>\n",
       "      <td>2019-07-02 00:00:00</td>\n",
       "    </tr>\n",
       "    <tr>\n",
       "      <th>3</th>\n",
       "      <td>728.0</td>\n",
       "      <td>Universtity of1104</td>\n",
       "      <td>1</td>\n",
       "      <td>9</td>\n",
       "      <td>2019-04-02 00:00:00</td>\n",
       "      <td>3</td>\n",
       "      <td>US</td>\n",
       "      <td>2019-04-03 00:00:00</td>\n",
       "    </tr>\n",
       "    <tr>\n",
       "      <th>4</th>\n",
       "      <td>451.0</td>\n",
       "      <td>Universtity of498</td>\n",
       "      <td>1</td>\n",
       "      <td>4</td>\n",
       "      <td>2019-02-17 00:00:00</td>\n",
       "      <td>10</td>\n",
       "      <td>US</td>\n",
       "      <td>2019-02-18 00:00:00</td>\n",
       "    </tr>\n",
       "  </tbody>\n",
       "</table>\n",
       "</div>"
      ],
      "text/plain": [
       "      id         school_name  online_school  category         date_created  \\\n",
       "0  759.0   Universtity of725              0        10  2019-09-07 00:00:00   \n",
       "1  483.0  Universtity of1398              1         8  2019-07-19 00:00:00   \n",
       "2  433.0   Universtity of693              1        10  2019-07-01 00:00:00   \n",
       "3  728.0  Universtity of1104              1         9  2019-04-02 00:00:00   \n",
       "4  451.0   Universtity of498              1         4  2019-02-17 00:00:00   \n",
       "\n",
       "   lottery country            sync_date  \n",
       "0       11      US  2019-09-08 00:00:00  \n",
       "1       19      US  2019-07-20 00:00:00  \n",
       "2        5      US  2019-07-02 00:00:00  \n",
       "3        3      US  2019-04-03 00:00:00  \n",
       "4       10      US  2019-02-18 00:00:00  "
      ]
     },
     "execution_count": 5,
     "metadata": {},
     "output_type": "execute_result"
    }
   ],
   "source": [
    "schools.head()"
   ]
  },
  {
   "cell_type": "code",
   "execution_count": 6,
   "id": "184f3f6f-00fb-4556-af28-5ec89304f73c",
   "metadata": {
    "tags": []
   },
   "outputs": [
    {
     "data": {
      "text/html": [
       "<div>\n",
       "<style scoped>\n",
       "    .dataframe tbody tr th:only-of-type {\n",
       "        vertical-align: middle;\n",
       "    }\n",
       "\n",
       "    .dataframe tbody tr th {\n",
       "        vertical-align: top;\n",
       "    }\n",
       "\n",
       "    .dataframe thead th {\n",
       "        text-align: right;\n",
       "    }\n",
       "</style>\n",
       "<table border=\"1\" class=\"dataframe\">\n",
       "  <thead>\n",
       "    <tr style=\"text-align: right;\">\n",
       "      <th></th>\n",
       "      <th>id</th>\n",
       "      <th>email</th>\n",
       "      <th>external_id</th>\n",
       "      <th>date_created</th>\n",
       "      <th>admin</th>\n",
       "      <th>category</th>\n",
       "      <th>sync_date</th>\n",
       "    </tr>\n",
       "  </thead>\n",
       "  <tbody>\n",
       "    <tr>\n",
       "      <th>0</th>\n",
       "      <td>19077</td>\n",
       "      <td>190777503@email.com</td>\n",
       "      <td>student_8644</td>\n",
       "      <td>2019-01-07 00:00:00</td>\n",
       "      <td>0</td>\n",
       "      <td>8</td>\n",
       "      <td>2019-01-08 00:00:00</td>\n",
       "    </tr>\n",
       "    <tr>\n",
       "      <th>1</th>\n",
       "      <td>8459</td>\n",
       "      <td>84599050@email.com</td>\n",
       "      <td>student_1230</td>\n",
       "      <td>2020-08-14 00:00:00</td>\n",
       "      <td>1</td>\n",
       "      <td>0</td>\n",
       "      <td>2020-08-15 00:00:00</td>\n",
       "    </tr>\n",
       "    <tr>\n",
       "      <th>2</th>\n",
       "      <td>457</td>\n",
       "      <td>4574423@email.com</td>\n",
       "      <td>student_5666</td>\n",
       "      <td>2019-09-19 00:00:00</td>\n",
       "      <td>1</td>\n",
       "      <td>6</td>\n",
       "      <td>2019-09-20 00:00:00</td>\n",
       "    </tr>\n",
       "    <tr>\n",
       "      <th>3</th>\n",
       "      <td>77</td>\n",
       "      <td>773297@email.com</td>\n",
       "      <td>student_7844</td>\n",
       "      <td>2019-10-31 00:00:00</td>\n",
       "      <td>0</td>\n",
       "      <td>9</td>\n",
       "      <td>2019-11-01 00:00:00</td>\n",
       "    </tr>\n",
       "    <tr>\n",
       "      <th>4</th>\n",
       "      <td>7125</td>\n",
       "      <td>71258995@email.com</td>\n",
       "      <td>student_8925</td>\n",
       "      <td>2019-06-22 00:00:00</td>\n",
       "      <td>0</td>\n",
       "      <td>8</td>\n",
       "      <td>2019-06-23 00:00:00</td>\n",
       "    </tr>\n",
       "  </tbody>\n",
       "</table>\n",
       "</div>"
      ],
      "text/plain": [
       "      id                email   external_id         date_created  admin  \\\n",
       "0  19077  190777503@email.com  student_8644  2019-01-07 00:00:00      0   \n",
       "1   8459   84599050@email.com  student_1230  2020-08-14 00:00:00      1   \n",
       "2    457    4574423@email.com  student_5666  2019-09-19 00:00:00      1   \n",
       "3     77     773297@email.com  student_7844  2019-10-31 00:00:00      0   \n",
       "4   7125   71258995@email.com  student_8925  2019-06-22 00:00:00      0   \n",
       "\n",
       "   category            sync_date  \n",
       "0         8  2019-01-08 00:00:00  \n",
       "1         0  2020-08-15 00:00:00  \n",
       "2         6  2019-09-20 00:00:00  \n",
       "3         9  2019-11-01 00:00:00  \n",
       "4         8  2019-06-23 00:00:00  "
      ]
     },
     "execution_count": 6,
     "metadata": {},
     "output_type": "execute_result"
    }
   ],
   "source": [
    "users.head()"
   ]
  },
  {
   "cell_type": "code",
   "execution_count": 7,
   "id": "a61377fe-d6c5-4371-8a89-0a8e680d517c",
   "metadata": {
    "tags": []
   },
   "outputs": [
    {
     "data": {
      "text/html": [
       "<div>\n",
       "<style scoped>\n",
       "    .dataframe tbody tr th:only-of-type {\n",
       "        vertical-align: middle;\n",
       "    }\n",
       "\n",
       "    .dataframe tbody tr th {\n",
       "        vertical-align: top;\n",
       "    }\n",
       "\n",
       "    .dataframe thead th {\n",
       "        text-align: right;\n",
       "    }\n",
       "</style>\n",
       "<table border=\"1\" class=\"dataframe\">\n",
       "  <thead>\n",
       "    <tr style=\"text-align: right;\">\n",
       "      <th></th>\n",
       "      <th>submission_id</th>\n",
       "      <th>user_id</th>\n",
       "      <th>course_id</th>\n",
       "      <th>assignment_submission_id</th>\n",
       "      <th>school_id</th>\n",
       "      <th>created_automatically</th>\n",
       "      <th>submission_date</th>\n",
       "      <th>deleted</th>\n",
       "      <th>active</th>\n",
       "      <th>sync_date</th>\n",
       "      <th>course_count</th>\n",
       "    </tr>\n",
       "  </thead>\n",
       "  <tbody>\n",
       "    <tr>\n",
       "      <th>0</th>\n",
       "      <td>22901</td>\n",
       "      <td>25781</td>\n",
       "      <td>27</td>\n",
       "      <td>209380</td>\n",
       "      <td>839.0</td>\n",
       "      <td>2</td>\n",
       "      <td>2019-10-24 00:00:00</td>\n",
       "      <td>0</td>\n",
       "      <td>0</td>\n",
       "      <td>2019-10-25 00:00:00</td>\n",
       "      <td>839_27</td>\n",
       "    </tr>\n",
       "    <tr>\n",
       "      <th>1</th>\n",
       "      <td>434067</td>\n",
       "      <td>21533</td>\n",
       "      <td>59</td>\n",
       "      <td>18829</td>\n",
       "      <td>79.0</td>\n",
       "      <td>1</td>\n",
       "      <td>2019-10-22 00:00:00</td>\n",
       "      <td>0</td>\n",
       "      <td>0</td>\n",
       "      <td>2019-10-23 00:00:00</td>\n",
       "      <td>79_59</td>\n",
       "    </tr>\n",
       "    <tr>\n",
       "      <th>2</th>\n",
       "      <td>330025</td>\n",
       "      <td>18278</td>\n",
       "      <td>1</td>\n",
       "      <td>13280</td>\n",
       "      <td>107.0</td>\n",
       "      <td>0</td>\n",
       "      <td>2019-03-30 00:00:00</td>\n",
       "      <td>0</td>\n",
       "      <td>1</td>\n",
       "      <td>2019-03-31 00:00:00</td>\n",
       "      <td>107_1</td>\n",
       "    </tr>\n",
       "    <tr>\n",
       "      <th>3</th>\n",
       "      <td>444610</td>\n",
       "      <td>24854</td>\n",
       "      <td>38</td>\n",
       "      <td>231269</td>\n",
       "      <td>648.0</td>\n",
       "      <td>1</td>\n",
       "      <td>2021-12-03 00:00:00</td>\n",
       "      <td>0</td>\n",
       "      <td>1</td>\n",
       "      <td>2021-12-04 00:00:00</td>\n",
       "      <td>648_38</td>\n",
       "    </tr>\n",
       "    <tr>\n",
       "      <th>4</th>\n",
       "      <td>297178</td>\n",
       "      <td>14471</td>\n",
       "      <td>60</td>\n",
       "      <td>37119</td>\n",
       "      <td>51.0</td>\n",
       "      <td>2</td>\n",
       "      <td>2019-11-23 00:00:00</td>\n",
       "      <td>0</td>\n",
       "      <td>1</td>\n",
       "      <td>2019-11-24 00:00:00</td>\n",
       "      <td>51_60</td>\n",
       "    </tr>\n",
       "  </tbody>\n",
       "</table>\n",
       "</div>"
      ],
      "text/plain": [
       "   submission_id  user_id  course_id  assignment_submission_id  school_id  \\\n",
       "0          22901    25781         27                    209380      839.0   \n",
       "1         434067    21533         59                     18829       79.0   \n",
       "2         330025    18278          1                     13280      107.0   \n",
       "3         444610    24854         38                    231269      648.0   \n",
       "4         297178    14471         60                     37119       51.0   \n",
       "\n",
       "   created_automatically      submission_date  deleted  active  \\\n",
       "0                      2  2019-10-24 00:00:00        0       0   \n",
       "1                      1  2019-10-22 00:00:00        0       0   \n",
       "2                      0  2019-03-30 00:00:00        0       1   \n",
       "3                      1  2021-12-03 00:00:00        0       1   \n",
       "4                      2  2019-11-23 00:00:00        0       1   \n",
       "\n",
       "             sync_date course_count  \n",
       "0  2019-10-25 00:00:00       839_27  \n",
       "1  2019-10-23 00:00:00        79_59  \n",
       "2  2019-03-31 00:00:00        107_1  \n",
       "3  2021-12-04 00:00:00       648_38  \n",
       "4  2019-11-24 00:00:00        51_60  "
      ]
     },
     "execution_count": 7,
     "metadata": {},
     "output_type": "execute_result"
    }
   ],
   "source": [
    "submissions.head()"
   ]
  },
  {
   "cell_type": "code",
   "execution_count": 8,
   "id": "1951596a-fa8a-49c3-b5e8-1cd528320639",
   "metadata": {
    "tags": []
   },
   "outputs": [
    {
     "data": {
      "text/plain": [
       "(1000000, 11)"
      ]
     },
     "execution_count": 8,
     "metadata": {},
     "output_type": "execute_result"
    }
   ],
   "source": [
    "submissions.shape"
   ]
  },
  {
   "cell_type": "markdown",
   "id": "9008e7cb-6764-40ec-aa3f-f655c652172e",
   "metadata": {},
   "source": [
    "### Basic queries"
   ]
  },
  {
   "cell_type": "code",
   "execution_count": 9,
   "id": "acb2ea76-c671-4ad1-8fe8-df09bd110d02",
   "metadata": {
    "tags": []
   },
   "outputs": [
    {
     "name": "stdout",
     "output_type": "stream",
     "text": [
      "  country\n",
      "0      US\n",
      "1      US\n",
      "2      US\n",
      "3      US\n",
      "4      US\n"
     ]
    }
   ],
   "source": [
    "print(sqldf('''\n",
    "SELECT country \n",
    "FROM schools \n",
    "LIMIT 5\n",
    "'''))"
   ]
  },
  {
   "cell_type": "code",
   "execution_count": 10,
   "id": "1ab30631-cd7d-4292-9275-d11d32370b37",
   "metadata": {
    "tags": []
   },
   "outputs": [
    {
     "name": "stdout",
     "output_type": "stream",
     "text": [
      "    country\n",
      "0        US\n",
      "1        UK\n",
      "2    Mexico\n",
      "3     Italy\n",
      "4  Thailand\n",
      "5     China\n",
      "6    Canada\n"
     ]
    }
   ],
   "source": [
    "print(sqldf('''\n",
    "SELECT DISTINCT country \n",
    "FROM schools'''))"
   ]
  },
  {
   "cell_type": "code",
   "execution_count": 11,
   "id": "3e0e65ad-e3a0-46bc-b74e-1371165a1702",
   "metadata": {
    "tags": []
   },
   "outputs": [
    {
     "name": "stdout",
     "output_type": "stream",
     "text": [
      "       id         school_name  online_school  category         date_created  \\\n",
      "0   483.0  Universtity of1398              1         8  2019-07-19 00:00:00   \n",
      "1   433.0   Universtity of693              1        10  2019-07-01 00:00:00   \n",
      "2   728.0  Universtity of1104              1         9  2019-04-02 00:00:00   \n",
      "3   451.0   Universtity of498              1         4  2019-02-17 00:00:00   \n",
      "4   777.0   Universtity of157              1         3  2019-06-19 00:00:00   \n",
      "..    ...                 ...            ...       ...                  ...   \n",
      "66  345.0   Universtity of344              1         0  2019-02-26 00:00:00   \n",
      "67  786.0  Universtity of1255              1         0  2019-07-02 00:00:00   \n",
      "68  539.0   Universtity of429              1         4  2019-08-23 00:00:00   \n",
      "69  211.0   Universtity of508              1        10  2019-01-14 00:00:00   \n",
      "70  188.0   Universtity of857              1         0  2019-02-19 00:00:00   \n",
      "\n",
      "    lottery country            sync_date  \n",
      "0        19      US  2019-07-20 00:00:00  \n",
      "1         5      US  2019-07-02 00:00:00  \n",
      "2         3      US  2019-04-03 00:00:00  \n",
      "3        10      US  2019-02-18 00:00:00  \n",
      "4         4      US  2019-06-20 00:00:00  \n",
      "..      ...     ...                  ...  \n",
      "66       29      US  2019-02-27 00:00:00  \n",
      "67       14      US  2019-07-03 00:00:00  \n",
      "68        4      US  2019-08-24 00:00:00  \n",
      "69       17      US  2019-01-15 00:00:00  \n",
      "70        4      US  2019-02-20 00:00:00  \n",
      "\n",
      "[71 rows x 8 columns]\n"
     ]
    }
   ],
   "source": [
    "print(sqldf('''SELECT *\n",
    "                 FROM schools \n",
    "                WHERE country = 'US'  AND online_school = '1'\n",
    "                  '''))"
   ]
  },
  {
   "cell_type": "code",
   "execution_count": 12,
   "id": "830256f0-8d82-4228-953b-c74987d2699e",
   "metadata": {
    "tags": []
   },
   "outputs": [
    {
     "name": "stdout",
     "output_type": "stream",
     "text": [
      "    country  count(id)\n",
      "0     Italy        139\n",
      "1        US        133\n",
      "2     China        131\n",
      "3        UK        126\n",
      "4    Mexico        119\n",
      "5    Canada        118\n",
      "6  Thailand         79\n"
     ]
    }
   ],
   "source": [
    "print(sqldf('''\n",
    "SELECT country, count(id)\n",
    "FROM schools \n",
    "GROUP BY country\n",
    "ORDER BY count(id) DESC\n",
    "'''))"
   ]
  },
  {
   "cell_type": "code",
   "execution_count": 13,
   "id": "44097cbf-9545-411e-bab9-bf3eb11f996f",
   "metadata": {
    "tags": []
   },
   "outputs": [
    {
     "name": "stdout",
     "output_type": "stream",
     "text": [
      "  min(submission_date) max(submission_date)\n",
      "0  2019-01-01 00:00:00  2022-11-01 00:00:00\n"
     ]
    }
   ],
   "source": [
    "# Min and max of submissions\n",
    "\n",
    "print(sqldf('''\n",
    "SELECT min(submission_date),max(submission_date)\n",
    "FROM submissions\n",
    "'''))"
   ]
  },
  {
   "cell_type": "markdown",
   "id": "91d09673-1ab4-4c53-a897-d040f5f69a9a",
   "metadata": {},
   "source": [
    "### Interesting queries"
   ]
  },
  {
   "cell_type": "code",
   "execution_count": 14,
   "id": "9cc5b67f-ea6d-40e6-b01d-6e85ebc6d7ea",
   "metadata": {
    "tags": []
   },
   "outputs": [
    {
     "name": "stdout",
     "output_type": "stream",
     "text": [
      "          school_name  school_id  count(submission_id)\n",
      "0   Universtity of981      752.0                  1317\n",
      "1    Universtity of18      271.0                  1301\n",
      "2   Universtity of942      732.0                  1291\n",
      "3   Universtity of161      631.0                  1286\n",
      "4  Universtity of1176      591.0                  1278\n",
      "5   Universtity of287      456.0                  1271\n",
      "6   Universtity of429        7.0                  1271\n",
      "7  Universtity of1172      484.0                  1267\n",
      "8    Universtity of54      254.0                  1267\n",
      "9  Universtity of1237      229.0                  1266\n"
     ]
    }
   ],
   "source": [
    "print(sqldf('''\n",
    "SELECT school_name,school_id, count(submission_id)\n",
    "FROM submissions\n",
    "INNER JOIN schools on schools.id = submissions.school_id\n",
    "GROUP BY school_id\n",
    "ORDER BY count(submission_id) DESC\n",
    "LIMIT 10\n",
    "'''))"
   ]
  },
  {
   "cell_type": "code",
   "execution_count": 15,
   "id": "6e9efda9-9de0-406a-8915-0cde5b2c9df6",
   "metadata": {
    "tags": []
   },
   "outputs": [
    {
     "name": "stdout",
     "output_type": "stream",
     "text": [
      "  country         school_name  school_id  count(submission_id)\n",
      "0  Mexico   Universtity of981      752.0                  1317\n",
      "1  Mexico    Universtity of18      271.0                  1301\n",
      "2   China   Universtity of942      732.0                  1291\n",
      "3      UK   Universtity of161      631.0                  1286\n",
      "4  Canada  Universtity of1176      591.0                  1278\n",
      "5      US   Universtity of287      456.0                  1271\n",
      "6      US   Universtity of429        7.0                  1271\n",
      "7      US  Universtity of1172      484.0                  1267\n",
      "8      US    Universtity of54      254.0                  1267\n",
      "9      US  Universtity of1237      229.0                  1266\n"
     ]
    }
   ],
   "source": [
    "print(sqldf('''\n",
    "SELECT country, school_name,school_id, count(submission_id)\n",
    "FROM submissions\n",
    "INNER JOIN schools on schools.id = submissions.school_id\n",
    "GROUP BY school_id\n",
    "ORDER BY count(submission_id) DESC\n",
    "LIMIT 10\n",
    "'''))"
   ]
  },
  {
   "cell_type": "code",
   "execution_count": 16,
   "id": "859fddf0-6ad5-4fb7-8567-17e74cee04a0",
   "metadata": {
    "tags": []
   },
   "outputs": [
    {
     "name": "stdout",
     "output_type": "stream",
     "text": [
      "  country         school_name  count(submission_id)\n",
      "0  Mexico   Universtity of981                  1317\n",
      "1  Mexico    Universtity of18                  1301\n",
      "2   China   Universtity of942                  1291\n",
      "3      UK   Universtity of161                  1286\n",
      "4  Canada  Universtity of1176                  1278\n",
      "5      US   Universtity of287                  1271\n",
      "6      US   Universtity of429                  1271\n",
      "7      US  Universtity of1172                  1267\n",
      "8      US    Universtity of54                  1267\n",
      "9      US  Universtity of1237                  1266\n"
     ]
    }
   ],
   "source": [
    "print(sqldf('''\n",
    "SELECT country, school_name, count(submission_id)\n",
    "FROM submissions\n",
    "INNER JOIN schools on schools.id = submissions.school_id\n",
    "GROUP BY school_id\n",
    "ORDER BY count(submission_id) DESC\n",
    "LIMIT 10\n",
    "'''))"
   ]
  },
  {
   "cell_type": "code",
   "execution_count": 18,
   "id": "6dca45bf-1dd4-46ff-82e2-5e34cefe95e8",
   "metadata": {
    "tags": []
   },
   "outputs": [
    {
     "name": "stdout",
     "output_type": "stream",
     "text": [
      "    country online_school  Total_schools\n",
      "0    Canada             0             47\n",
      "1    Canada             1             71\n",
      "2    Canada      Subtotal            118\n",
      "3    Mexico             0             58\n",
      "4    Mexico             1             61\n",
      "5    Mexico      Subtotal            119\n",
      "6  Thailand             0             52\n",
      "7  Thailand             1             27\n",
      "8  Thailand      Subtotal             79\n"
     ]
    }
   ],
   "source": [
    "print(sqldf('''\n",
    "WITH OD_DOS AS (\n",
    "\n",
    "SELECT country,online_school, count(id) AS Total_schools\n",
    "FROM schools\n",
    "WHERE country IN ('Thailand','Canada','Mexico')\n",
    "GROUP BY country,online_school\n",
    "--ORDER BY country,count(id) DESC\n",
    "UNION\n",
    "SELECT country,replace(replace(online_school,1,'Subtotal'),0,'Subtotal') AS online_school, count(id)\n",
    "FROM schools\n",
    "WHERE country IN ('Thailand','Canada','Mexico')\n",
    "GROUP BY country\n",
    "ORDER BY country,online_school ASC,count(id) DESC\n",
    ")\n",
    "SELECT *\n",
    "FROM OD_DOS\n",
    "'''))"
   ]
  },
  {
   "cell_type": "code",
   "execution_count": 19,
   "id": "f4c49829-1118-4bdb-b89f-8d2bfe241b68",
   "metadata": {},
   "outputs": [
    {
     "name": "stdout",
     "output_type": "stream",
     "text": [
      "     country online_school  Total_schools\n",
      "0     Canada             0             47\n",
      "1     Canada             1             71\n",
      "2     Canada      Subtotal            118\n",
      "3      China             0             62\n",
      "4      China             1             69\n",
      "5      China      Subtotal            131\n",
      "6      Italy             0             69\n",
      "7      Italy             1             70\n",
      "8      Italy      Subtotal            139\n",
      "9     Mexico             0             58\n",
      "10    Mexico             1             61\n",
      "11    Mexico      Subtotal            119\n",
      "12  Thailand             0             52\n",
      "13  Thailand             1             27\n",
      "14  Thailand      Subtotal             79\n",
      "15        UK             0             62\n",
      "16        UK             1             64\n",
      "17        UK      Subtotal            126\n",
      "18        US             0             62\n",
      "19        US             1             71\n",
      "20        US      Subtotal            133\n"
     ]
    }
   ],
   "source": [
    "print(sqldf('''\n",
    "WITH OD_DOS AS (\n",
    "SELECT country,online_school, count(id) AS Total_schools\n",
    "FROM schools\n",
    "--WHERE country IN ('Thailand','Canada','Mexico')\n",
    "GROUP BY country,online_school\n",
    "--ORDER BY country,count(id) DESC\n",
    "UNION\n",
    "SELECT country,replace(replace(online_school,1,'Subtotal'),0,'Subtotal') AS online_school, count(id)\n",
    "FROM schools\n",
    "--WHERE country IN ('Thailand','Canada','Mexico')\n",
    "GROUP BY country\n",
    "ORDER BY country,online_school ASC,count(id) DESC\n",
    ")\n",
    "SELECT *\n",
    "FROM OD_DOS\n",
    "'''))"
   ]
  },
  {
   "cell_type": "markdown",
   "id": "9dccfb4f-bae1-4450-81cc-292bd7a1f2de",
   "metadata": {},
   "source": [
    "Note: since RollUp does not work in SQLite, we use replace for subtotals."
   ]
  },
  {
   "cell_type": "markdown",
   "id": "e7f0bd5f-1a49-4893-94a1-5c22eb8daf2e",
   "metadata": {},
   "source": [
    "Nota: como en SQLite no hay RollUp, toca replace para subtotales."
   ]
  },
  {
   "cell_type": "code",
   "execution_count": 20,
   "id": "da810532-02b8-4123-a06d-95a0c26db799",
   "metadata": {},
   "outputs": [
    {
     "name": "stdout",
     "output_type": "stream",
     "text": [
      "     country online_school  Total_schools\n",
      "0         US             0             62\n",
      "1         US             1             71\n",
      "2         US      Subtotal            133\n",
      "3         UK             0             62\n",
      "4         UK             1             64\n",
      "5         UK      Subtotal            126\n",
      "6   Thailand             1             27\n",
      "7   Thailand             0             52\n",
      "8   Thailand      Subtotal             79\n",
      "9     Mexico             0             58\n",
      "10    Mexico             1             61\n",
      "11    Mexico      Subtotal            119\n",
      "12     Italy             0             69\n",
      "13     Italy             1             70\n",
      "14     Italy      Subtotal            139\n",
      "15     China             0             62\n",
      "16     China             1             69\n",
      "17     China      Subtotal            131\n",
      "18    Canada             0             47\n",
      "19    Canada             1             71\n",
      "20    Canada      Subtotal            118\n",
      "21     Total                          845\n"
     ]
    }
   ],
   "source": [
    "print(sqldf('''\n",
    "WITH OD_DOS AS (\n",
    "SELECT country,online_school, count(id) AS Total_schools\n",
    "FROM schools\n",
    "GROUP BY country,online_school\n",
    "UNION\n",
    "SELECT country,replace(replace(online_school,1,'Subtotal'),0,'Subtotal') AS online_school, count(id)\n",
    "FROM schools\n",
    "GROUP BY country\n",
    ")\n",
    "SELECT *\n",
    "FROM OD_DOS\n",
    "UNION\n",
    "SELECT replace(country,'US',' Total') AS country,replace(online_school,0,'') AS online_school, count(id)\n",
    "FROM schools\n",
    "ORDER BY country DESC,Total_schools ASC,online_school\n",
    "'''))"
   ]
  },
  {
   "cell_type": "code",
   "execution_count": 21,
   "id": "07cd15dd-8cf9-4736-81fc-dcf5337ae6e4",
   "metadata": {
    "tags": []
   },
   "outputs": [
    {
     "name": "stdout",
     "output_type": "stream",
     "text": [
      "   school_id submission_month  count(submission_id)\n",
      "0      850.0           201901                    23\n",
      "1      850.0           201902                    27\n",
      "2      850.0           201903                    22\n",
      "3      850.0           201904                    32\n",
      "4      850.0           201905                    32\n",
      "5      850.0           201906                    28\n",
      "6      850.0           201907                    17\n",
      "7      850.0           201908                    36\n",
      "8      850.0           201909                    19\n",
      "9      850.0           201910                    28\n"
     ]
    }
   ],
   "source": [
    "print(sqldf('''\n",
    "SELECT school_id,SUBSTRING(submission_date, 1, 4)||SUBSTRING(submission_date, 6, 2) AS submission_month,count(submission_id)\n",
    "FROM submissions\n",
    "GROUP BY school_id,submission_month\n",
    "ORDER BY school_id DESC\n",
    "LIMIT 10\n",
    "'''))"
   ]
  },
  {
   "cell_type": "markdown",
   "id": "764e2bc7-03b6-427c-819d-c40dc6266b7e",
   "metadata": {
    "tags": []
   },
   "source": [
    "Note: SQLite lacks a built-in PIVOT function..."
   ]
  },
  {
   "cell_type": "markdown",
   "id": "5fcf9abf-70d2-4cdb-98bd-4cea7dfc6500",
   "metadata": {
    "tags": []
   },
   "source": [
    "Nota: a SQLite le hace falta una built-in function como PIVOT..."
   ]
  },
  {
   "cell_type": "code",
   "execution_count": 23,
   "id": "6fd54754-7223-4116-8e4e-895af5f63eba",
   "metadata": {
    "tags": []
   },
   "outputs": [
    {
     "name": "stdout",
     "output_type": "stream",
     "text": [
      "            school_name  202101  202102  202103  202104  202105\n",
      "0                  None      23      20      33      24      25\n",
      "1    Universtity of1000      65      71      75      94      72\n",
      "2    Universtity of1001      21      26      25      25      28\n",
      "3    Universtity of1002      32      35      29      23      18\n",
      "4    Universtity of1005      54      39      55      52      58\n",
      "..                  ...     ...     ...     ...     ...     ...\n",
      "638   Universtity of987      24      23      25      26      30\n",
      "639   Universtity of990      46      59      49      59      67\n",
      "640   Universtity of994      29      25      30      24      29\n",
      "641   Universtity of996      54      55      53      51      48\n",
      "642   Universtity of999      59      61      82      90      68\n",
      "\n",
      "[643 rows x 6 columns]\n"
     ]
    }
   ],
   "source": [
    "print(sqldf('''\n",
    "WITH SUBS_PRIMERA AS (\n",
    "SELECT * FROM (\n",
    "SELECT schools.school_name AS school_name, school_id,SUBSTRING(submission_date, 1, 4)||SUBSTRING(submission_date, 6, 2) AS submission_month,count(submission_id) AS Subs\n",
    "FROM submissions\n",
    "LEFT JOIN schools ON schools.id = submissions.school_id\n",
    "GROUP BY school_name,submission_month\n",
    "--ORDER BY school_id DESC\n",
    "))\n",
    "\n",
    "SELECT school_name,\n",
    "MAX(CASE WHEN submission_month = '202101' THEN Subs ELSE 0 END) AS \"202101\",\n",
    "MAX(CASE WHEN submission_month = '202102' THEN Subs END) AS \"202102\",\n",
    "MAX(CASE WHEN submission_month = '202103' THEN Subs END) AS \"202103\",\n",
    "MAX(CASE WHEN submission_month = '202104' THEN Subs END) AS \"202104\",\n",
    "MAX(CASE WHEN submission_month = '202105' THEN Subs END) AS \"202105\"\n",
    "FROM SUBS_PRIMERA\n",
    "GROUP BY school_name\n",
    "'''))"
   ]
  },
  {
   "cell_type": "markdown",
   "id": "0b32fc59-da55-43bb-bbac-4e638c130033",
   "metadata": {},
   "source": [
    "### Bonus: run the following queries only in SQLiteStudio"
   ]
  },
  {
   "cell_type": "markdown",
   "id": "78c91842-d419-40f9-97ef-5b33695b77c2",
   "metadata": {},
   "source": [
    "### Bonus: ejecutar la siguientes consultas solo en SQLiteStudio"
   ]
  },
  {
   "cell_type": "code",
   "execution_count": null,
   "id": "42f6630a-2499-4d10-a1ef-f51997a7d094",
   "metadata": {},
   "outputs": [],
   "source": [
    "print(sqldf('''\n",
    "WITH submissions2 AS (\n",
    "SELECT \n",
    "submission_id,user_id,course_id,school_id,STRFTIME(\"%Y%m\", submissions.submission_date_2) AS submission_YearMonth, STRFTIME(\"%Y\", submissions.submission_date_2) AS submission_Year,\n",
    "STRFTIME(\"%m\", submissions.submission_date_2) AS submission_Month,\n",
    "schools.school_name AS school_name, course_id||'-'||school_id AS course_id__school_id\n",
    "FROM submissions\n",
    "LEFT JOIN 'schools' ON 'schools'.id = submissions.school_id\n",
    "),\n",
    "\n",
    "courses2 AS (\n",
    "SELECT id||'-'||school_id AS course_id__school_id,id,course_name,school_id\n",
    "FROM courses),\n",
    "\n",
    "instructors2 AS (\n",
    "SELECT course_id||'-'||school_id AS course_id__school_id,instructors_id\n",
    "FROM instructors)\n",
    "\n",
    "--CREATE TABLE submissions3 AS\n",
    "SELECT submission_id,user_id,course_id,submissions2.school_id AS school_id,submission_YearMonth,submission_Year,submission_Month,school_name,submissions2.course_id__school_id,courses2.course_name AS course_name, instructors2.instructors_id AS instructors_id\n",
    "from submissions2\n",
    "LEFT JOIN 'courses2' ON courses2.course_id__school_id = submissions2.course_id__school_id\n",
    "LEFT JOIN 'instructors2' ON instructors2.course_id__school_id = submissions2.course_id__school_id\n",
    "'''))"
   ]
  },
  {
   "cell_type": "code",
   "execution_count": null,
   "id": "2251f4d4-ef7d-459c-aa95-8bbddb155216",
   "metadata": {},
   "outputs": [],
   "source": [
    "print(sqldf('''SELECT school_id,\n",
    "--STRFTIME(\"%Y%m\", submissions.submission_date) AS submission_YearMonth,\n",
    "count(submission_id)\n",
    "--submission_id\n",
    "--submission_id,user_id,course_id,school_id,STRFTIME(\"%Y%m\", submissions.submission_date_2) AS submission_YearMonth, STRFTIME(\"%Y\", submissions.submission_date_2) AS submission_Year,\n",
    "--STRFTIME(\"%m\", submissions.submission_date_2) AS submission_Month,\n",
    "--schools.school_name AS school_name, course_id||'-'||school_id AS course_id__school_id\n",
    "FROM submissions\n",
    "GROUP BY school_id\n",
    "ORDER BY count(submission_id) DESC\n",
    "LIMIT 10\n",
    "'''))"
   ]
  },
  {
   "cell_type": "markdown",
   "id": "d47df7f3-852d-4636-a909-4cbc3957fd75",
   "metadata": {},
   "source": [
    "### Bonus 2: example of create table"
   ]
  },
  {
   "cell_type": "markdown",
   "id": "b354506e-f813-4605-a0a6-fe0541b1322f",
   "metadata": {},
   "source": [
    "### Bonus 2: ejemplo de creación de tabla"
   ]
  },
  {
   "cell_type": "code",
   "execution_count": null,
   "id": "90347f31-8fe0-4710-b9c9-64c869d661f1",
   "metadata": {},
   "outputs": [],
   "source": [
    "# To begin work on the .db file it is required to connect to the database\n",
    "\n",
    "# Para empezar a trabajar sobre el archivo .db se requiere conectarse a la base de datos\n",
    "connection = sqlite3.connect('C:/Users/usuario/%Python/sql-practice/db_a.db')"
   ]
  },
  {
   "cell_type": "code",
   "execution_count": null,
   "id": "2226b205-6740-4928-a55b-ed7545b25e24",
   "metadata": {},
   "outputs": [],
   "source": [
    "# Cursor is a database object that allows to perform operations in a dataset\n",
    "\n",
    "# Cursor es un objeto que permite ejecutar operaciones en un dataset\n",
    "cursor = connection.cursor()"
   ]
  },
  {
   "cell_type": "code",
   "execution_count": null,
   "id": "6ad6398f-520c-43db-ba49-c3b2875c1604",
   "metadata": {},
   "outputs": [],
   "source": [
    "# It is always a good practice to use delete if exists\n",
    "\n",
    "# Siempre se recomienda eliminarla si extiste\n",
    "\n",
    "cursor.execute('DROP TABLE IF EXISTS z_submissions_users')"
   ]
  },
  {
   "cell_type": "code",
   "execution_count": null,
   "id": "77aec573-5937-4d4e-862b-0828bbba7742",
   "metadata": {},
   "outputs": [],
   "source": [
    "# Create table\n",
    "\n",
    "# Crear la tabla\n",
    "\n",
    "cursor.execute('''CREATE TABLE z_submissions_users AS WITH temp_2 AS (\n",
    "SELECT *,\n",
    "  STRFTIME(\"%Y%m\", submissions.submission_date_2) AS submission_YearMonth,\n",
    "  DateDimension.YearNumber AS submission_Year,\n",
    "  DateDimension.MonthNumber AS submission_Month,\n",
    "  COUNT(DISTINCT user_id) AS CANT_user\n",
    "  --COUNT(assignment_submission_id) AS count\n",
    "FROM 'submissions'\n",
    "--LEFT JOIN 'schools' ON 'schools'.id = 'submissions'.school_id\n",
    "--LEFT JOIN 'users' ON 'users'.id = 'submissions'.user_id\n",
    "LEFT JOIN 'DateDimension' ON 'DateDimension'.CalendarDateInterval = 'submissions'.submission_date\n",
    "GROUP BY\n",
    "  STRFTIME(\"%Y%m\", submissions.submission_date_2),submission_Year,submission_Month\n",
    "ORDER BY submission_YearMonth\n",
    ")\n",
    "SELECT submission_YearMonth,submission_Month,submission_Year,CANT_user\n",
    "FROM temp_2\n",
    "ORDER BY submission_YearMonth;''')"
   ]
  },
  {
   "cell_type": "code",
   "execution_count": null,
   "id": "57949003-fa1a-4d13-bfe5-64f94d91414c",
   "metadata": {},
   "outputs": [],
   "source": [
    "# This method (commit) is used to confirm the changes made to the database\n",
    "\n",
    "# El método commit se usa para confirmar los cambios hechos en la base de datos\n",
    "connection.commit()"
   ]
  },
  {
   "cell_type": "code",
   "execution_count": null,
   "id": "9225eb59-3b50-4e38-b1f5-832ffc3982cb",
   "metadata": {},
   "outputs": [],
   "source": [
    "# This method (close) ends the connection. It should be executed only at the end of the coding.\n",
    "\n",
    "# El método Close termina la conexión. Solo debe ser ejecutado al finalizar el código.\n",
    "connection.close()"
   ]
  }
 ],
 "metadata": {
  "kernelspec": {
   "display_name": "Python 3 (ipykernel)",
   "language": "python",
   "name": "python3"
  },
  "language_info": {
   "codemirror_mode": {
    "name": "ipython",
    "version": 3
   },
   "file_extension": ".py",
   "mimetype": "text/x-python",
   "name": "python",
   "nbconvert_exporter": "python",
   "pygments_lexer": "ipython3",
   "version": "3.11.4"
  },
  "toc-autonumbering": false,
  "toc-showcode": true
 },
 "nbformat": 4,
 "nbformat_minor": 5
}
