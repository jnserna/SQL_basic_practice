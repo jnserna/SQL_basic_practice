{
 "cells": [
  {
   "cell_type": "markdown",
   "id": "1e0f1bd3-66ac-4712-a9f1-aa0f97796103",
   "metadata": {},
   "source": [
    "### Libraries"
   ]
  },
  {
   "cell_type": "code",
   "execution_count": 5,
   "id": "ec310a95-9c0e-40de-a5e1-14d3c9ce6fbc",
   "metadata": {
    "tags": []
   },
   "outputs": [],
   "source": [
    "import sqlite3\n",
    "import pandas as pd\n",
    "import datetime as dt"
   ]
  },
  {
   "cell_type": "markdown",
   "id": "6effc71d-edfd-4a82-b926-9e05ff5fa52b",
   "metadata": {},
   "source": [
    "### Connect"
   ]
  },
  {
   "cell_type": "code",
   "execution_count": 6,
   "id": "6705a3b7-9fdd-45c2-8e79-2a76de8cb7d7",
   "metadata": {},
   "outputs": [],
   "source": [
    "# Create or connect to sql database\n",
    "# Provide your specific location for the .db file\n",
    "\n",
    "# Crear o conectar a una base de datos sql\n",
    "# Seleccionar su ubicación específica para el archivo .db\n",
    "\n",
    "connection = sqlite3.connect('C:/Users/usuario/%Python/sql-practice/db_a.db')"
   ]
  },
  {
   "cell_type": "code",
   "execution_count": 3,
   "id": "824352c6-8eff-44cf-981f-c689c5b3f094",
   "metadata": {},
   "outputs": [],
   "source": [
    "# Cursor is a database object that allows to perform operations in a dataset\n",
    "\n",
    "# Cursor es un objeto que permite ejecutar operaciones en un dataset\n",
    "cursor = connection.cursor()"
   ]
  },
  {
   "cell_type": "code",
   "execution_count": 4,
   "id": "d98f95e3-62f3-4c57-87fb-2ef6392a37d0",
   "metadata": {},
   "outputs": [],
   "source": [
    "# This method (commit) is used to confirm the changes made to the database\n",
    "\n",
    "# El método commit se usa para confirmar los cambios hechos en la base de datos\n",
    "connection.commit()"
   ]
  },
  {
   "cell_type": "code",
   "execution_count": null,
   "id": "223d6abe-e782-4119-b6e3-f4aaf5dc1e26",
   "metadata": {},
   "outputs": [],
   "source": [
    "# This method (close) ends the connection. It should be executed only at the end of the coding.\n",
    "\n",
    "# El método Close termina la conexión. Solo debe ser ejecutado al finalizar el código.\n",
    "connection.close()"
   ]
  },
  {
   "cell_type": "markdown",
   "id": "435510cb-37d7-4e50-b40f-0ce558c01b37",
   "metadata": {
    "tags": []
   },
   "source": [
    "### db_a"
   ]
  },
  {
   "cell_type": "markdown",
   "id": "3ea56ae5-ed4b-4626-a9d5-1737d3a3faa9",
   "metadata": {},
   "source": [
    "db_a is the name for the database, which will be formed by five tables: courses, instructors, schools, submissions, users."
   ]
  },
  {
   "cell_type": "markdown",
   "id": "1c984796-8af5-4760-a41d-05bc23bf03a2",
   "metadata": {},
   "source": [
    "db_a es el nombre que daremos a la base de datos, que será formada por cinco tablas: courses, instructors, schools, submissions, users."
   ]
  },
  {
   "cell_type": "markdown",
   "id": "1dd5b062-42c3-47ce-9111-fdb5997caccb",
   "metadata": {},
   "source": [
    "### Schools"
   ]
  },
  {
   "cell_type": "code",
   "execution_count": 86,
   "id": "61094d38-c8c1-4767-80d9-0e862cc354a6",
   "metadata": {},
   "outputs": [],
   "source": [
    "# Load data file\n",
    "\n",
    "# Cargar el archivo de datos\n",
    "d1 =  pd.read_csv('C:/Users/usuario/%Python/sql-practice/schools.csv')"
   ]
  },
  {
   "cell_type": "code",
   "execution_count": 87,
   "id": "b7c74a36-a28d-4a8c-a2df-b5a9a5cc65b6",
   "metadata": {
    "tags": []
   },
   "outputs": [
    {
     "data": {
      "text/html": [
       "<div>\n",
       "<style scoped>\n",
       "    .dataframe tbody tr th:only-of-type {\n",
       "        vertical-align: middle;\n",
       "    }\n",
       "\n",
       "    .dataframe tbody tr th {\n",
       "        vertical-align: top;\n",
       "    }\n",
       "\n",
       "    .dataframe thead th {\n",
       "        text-align: right;\n",
       "    }\n",
       "</style>\n",
       "<table border=\"1\" class=\"dataframe\">\n",
       "  <thead>\n",
       "    <tr style=\"text-align: right;\">\n",
       "      <th></th>\n",
       "      <th>id</th>\n",
       "      <th>school_name</th>\n",
       "      <th>online_school</th>\n",
       "      <th>category</th>\n",
       "      <th>date_created</th>\n",
       "      <th>lottery</th>\n",
       "      <th>country</th>\n",
       "      <th>sync_date</th>\n",
       "    </tr>\n",
       "  </thead>\n",
       "  <tbody>\n",
       "    <tr>\n",
       "      <th>0</th>\n",
       "      <td>759.0</td>\n",
       "      <td>Universtity of725</td>\n",
       "      <td>0</td>\n",
       "      <td>10</td>\n",
       "      <td>2019-09-07 00:00:00</td>\n",
       "      <td>11</td>\n",
       "      <td>US</td>\n",
       "      <td>2019-09-08 00:00:00</td>\n",
       "    </tr>\n",
       "    <tr>\n",
       "      <th>1</th>\n",
       "      <td>483.0</td>\n",
       "      <td>Universtity of1398</td>\n",
       "      <td>1</td>\n",
       "      <td>8</td>\n",
       "      <td>2019-07-19 00:00:00</td>\n",
       "      <td>19</td>\n",
       "      <td>US</td>\n",
       "      <td>2019-07-20 00:00:00</td>\n",
       "    </tr>\n",
       "    <tr>\n",
       "      <th>2</th>\n",
       "      <td>433.0</td>\n",
       "      <td>Universtity of693</td>\n",
       "      <td>1</td>\n",
       "      <td>10</td>\n",
       "      <td>2019-07-01 00:00:00</td>\n",
       "      <td>5</td>\n",
       "      <td>US</td>\n",
       "      <td>2019-07-02 00:00:00</td>\n",
       "    </tr>\n",
       "    <tr>\n",
       "      <th>3</th>\n",
       "      <td>728.0</td>\n",
       "      <td>Universtity of1104</td>\n",
       "      <td>1</td>\n",
       "      <td>9</td>\n",
       "      <td>2019-04-02 00:00:00</td>\n",
       "      <td>3</td>\n",
       "      <td>US</td>\n",
       "      <td>2019-04-03 00:00:00</td>\n",
       "    </tr>\n",
       "    <tr>\n",
       "      <th>4</th>\n",
       "      <td>451.0</td>\n",
       "      <td>Universtity of498</td>\n",
       "      <td>1</td>\n",
       "      <td>4</td>\n",
       "      <td>2019-02-17 00:00:00</td>\n",
       "      <td>10</td>\n",
       "      <td>US</td>\n",
       "      <td>2019-02-18 00:00:00</td>\n",
       "    </tr>\n",
       "  </tbody>\n",
       "</table>\n",
       "</div>"
      ],
      "text/plain": [
       "      id         school_name  online_school  category         date_created  \\\n",
       "0  759.0   Universtity of725              0        10  2019-09-07 00:00:00   \n",
       "1  483.0  Universtity of1398              1         8  2019-07-19 00:00:00   \n",
       "2  433.0   Universtity of693              1        10  2019-07-01 00:00:00   \n",
       "3  728.0  Universtity of1104              1         9  2019-04-02 00:00:00   \n",
       "4  451.0   Universtity of498              1         4  2019-02-17 00:00:00   \n",
       "\n",
       "   lottery country            sync_date  \n",
       "0       11      US  2019-09-08 00:00:00  \n",
       "1       19      US  2019-07-20 00:00:00  \n",
       "2        5      US  2019-07-02 00:00:00  \n",
       "3        3      US  2019-04-03 00:00:00  \n",
       "4       10      US  2019-02-18 00:00:00  "
      ]
     },
     "execution_count": 87,
     "metadata": {},
     "output_type": "execute_result"
    }
   ],
   "source": [
    "d1.head()"
   ]
  },
  {
   "cell_type": "code",
   "execution_count": 21,
   "id": "c3392f36-a6cf-4a38-9187-a2b05b6f091d",
   "metadata": {
    "tags": []
   },
   "outputs": [],
   "source": [
    "d2 = pd.read_csv('C:/Users/usuario/%Python/sql-practice/schools.csv',dtype={'id': 'str'})"
   ]
  },
  {
   "cell_type": "code",
   "execution_count": 22,
   "id": "ddf31b73-7062-49af-9bb3-102991af1182",
   "metadata": {
    "tags": []
   },
   "outputs": [
    {
     "name": "stdout",
     "output_type": "stream",
     "text": [
      "<class 'pandas.core.frame.DataFrame'>\n",
      "RangeIndex: 846 entries, 0 to 845\n",
      "Data columns (total 8 columns):\n",
      " #   Column         Non-Null Count  Dtype  \n",
      "---  ------         --------------  -----  \n",
      " 0   id             845 non-null    float64\n",
      " 1   school_name    846 non-null    object \n",
      " 2   online_school  846 non-null    int64  \n",
      " 3   category       846 non-null    int64  \n",
      " 4   date_created   846 non-null    object \n",
      " 5   lottery        846 non-null    int64  \n",
      " 6   country        846 non-null    object \n",
      " 7   sync_date      846 non-null    object \n",
      "dtypes: float64(1), int64(3), object(4)\n",
      "memory usage: 53.0+ KB\n"
     ]
    }
   ],
   "source": [
    "# Eplore dtypes\n",
    "\n",
    "# Tipo de datos\n",
    "\n",
    "d1.info()"
   ]
  },
  {
   "cell_type": "code",
   "execution_count": 23,
   "id": "4507d50f-92fc-41c7-9e3b-63c950f9e643",
   "metadata": {
    "tags": []
   },
   "outputs": [
    {
     "name": "stdout",
     "output_type": "stream",
     "text": [
      "<class 'pandas.core.frame.DataFrame'>\n",
      "RangeIndex: 846 entries, 0 to 845\n",
      "Data columns (total 8 columns):\n",
      " #   Column         Non-Null Count  Dtype \n",
      "---  ------         --------------  ----- \n",
      " 0   id             845 non-null    object\n",
      " 1   school_name    846 non-null    object\n",
      " 2   online_school  846 non-null    int64 \n",
      " 3   category       846 non-null    int64 \n",
      " 4   date_created   846 non-null    object\n",
      " 5   lottery        846 non-null    int64 \n",
      " 6   country        846 non-null    object\n",
      " 7   sync_date      846 non-null    object\n",
      "dtypes: int64(3), object(5)\n",
      "memory usage: 53.0+ KB\n"
     ]
    }
   ],
   "source": [
    "d2.info()"
   ]
  },
  {
   "cell_type": "code",
   "execution_count": 24,
   "id": "0005f9c5-31ba-4fcc-bea5-2c375da0605d",
   "metadata": {
    "tags": []
   },
   "outputs": [
    {
     "data": {
      "text/html": [
       "<div>\n",
       "<style scoped>\n",
       "    .dataframe tbody tr th:only-of-type {\n",
       "        vertical-align: middle;\n",
       "    }\n",
       "\n",
       "    .dataframe tbody tr th {\n",
       "        vertical-align: top;\n",
       "    }\n",
       "\n",
       "    .dataframe thead th {\n",
       "        text-align: right;\n",
       "    }\n",
       "</style>\n",
       "<table border=\"1\" class=\"dataframe\">\n",
       "  <thead>\n",
       "    <tr style=\"text-align: right;\">\n",
       "      <th></th>\n",
       "      <th>id</th>\n",
       "      <th>school_name</th>\n",
       "      <th>online_school</th>\n",
       "      <th>category</th>\n",
       "      <th>date_created</th>\n",
       "      <th>lottery</th>\n",
       "      <th>country</th>\n",
       "      <th>sync_date</th>\n",
       "    </tr>\n",
       "  </thead>\n",
       "  <tbody>\n",
       "    <tr>\n",
       "      <th>0</th>\n",
       "      <td>759</td>\n",
       "      <td>Universtity of725</td>\n",
       "      <td>0</td>\n",
       "      <td>10</td>\n",
       "      <td>2019-09-07 00:00:00</td>\n",
       "      <td>11</td>\n",
       "      <td>US</td>\n",
       "      <td>2019-09-08 00:00:00</td>\n",
       "    </tr>\n",
       "    <tr>\n",
       "      <th>1</th>\n",
       "      <td>483</td>\n",
       "      <td>Universtity of1398</td>\n",
       "      <td>1</td>\n",
       "      <td>8</td>\n",
       "      <td>2019-07-19 00:00:00</td>\n",
       "      <td>19</td>\n",
       "      <td>US</td>\n",
       "      <td>2019-07-20 00:00:00</td>\n",
       "    </tr>\n",
       "    <tr>\n",
       "      <th>2</th>\n",
       "      <td>433</td>\n",
       "      <td>Universtity of693</td>\n",
       "      <td>1</td>\n",
       "      <td>10</td>\n",
       "      <td>2019-07-01 00:00:00</td>\n",
       "      <td>5</td>\n",
       "      <td>US</td>\n",
       "      <td>2019-07-02 00:00:00</td>\n",
       "    </tr>\n",
       "    <tr>\n",
       "      <th>3</th>\n",
       "      <td>728</td>\n",
       "      <td>Universtity of1104</td>\n",
       "      <td>1</td>\n",
       "      <td>9</td>\n",
       "      <td>2019-04-02 00:00:00</td>\n",
       "      <td>3</td>\n",
       "      <td>US</td>\n",
       "      <td>2019-04-03 00:00:00</td>\n",
       "    </tr>\n",
       "    <tr>\n",
       "      <th>4</th>\n",
       "      <td>451</td>\n",
       "      <td>Universtity of498</td>\n",
       "      <td>1</td>\n",
       "      <td>4</td>\n",
       "      <td>2019-02-17 00:00:00</td>\n",
       "      <td>10</td>\n",
       "      <td>US</td>\n",
       "      <td>2019-02-18 00:00:00</td>\n",
       "    </tr>\n",
       "  </tbody>\n",
       "</table>\n",
       "</div>"
      ],
      "text/plain": [
       "    id         school_name  online_school  category         date_created  \\\n",
       "0  759   Universtity of725              0        10  2019-09-07 00:00:00   \n",
       "1  483  Universtity of1398              1         8  2019-07-19 00:00:00   \n",
       "2  433   Universtity of693              1        10  2019-07-01 00:00:00   \n",
       "3  728  Universtity of1104              1         9  2019-04-02 00:00:00   \n",
       "4  451   Universtity of498              1         4  2019-02-17 00:00:00   \n",
       "\n",
       "   lottery country            sync_date  \n",
       "0       11      US  2019-09-08 00:00:00  \n",
       "1       19      US  2019-07-20 00:00:00  \n",
       "2        5      US  2019-07-02 00:00:00  \n",
       "3        3      US  2019-04-03 00:00:00  \n",
       "4       10      US  2019-02-18 00:00:00  "
      ]
     },
     "execution_count": 24,
     "metadata": {},
     "output_type": "execute_result"
    }
   ],
   "source": [
    "d2.head()"
   ]
  },
  {
   "cell_type": "code",
   "execution_count": 25,
   "id": "eef92b3d-ff9e-4247-9ac5-9435f4d2ca82",
   "metadata": {
    "tags": []
   },
   "outputs": [],
   "source": [
    "# convert the 'Date' column to datetime format\n",
    "\n",
    "# Convertir la columna \"Date\" a formato datetime\n",
    "d2['date_created_2']= pd.to_datetime(d2['date_created'])\n",
    "d2['sync_date_2']= pd.to_datetime(d2['sync_date'])"
   ]
  },
  {
   "cell_type": "code",
   "execution_count": 26,
   "id": "821f913b-dbb7-4bfd-bb8a-f933149ac937",
   "metadata": {
    "tags": []
   },
   "outputs": [
    {
     "data": {
      "text/html": [
       "<div>\n",
       "<style scoped>\n",
       "    .dataframe tbody tr th:only-of-type {\n",
       "        vertical-align: middle;\n",
       "    }\n",
       "\n",
       "    .dataframe tbody tr th {\n",
       "        vertical-align: top;\n",
       "    }\n",
       "\n",
       "    .dataframe thead th {\n",
       "        text-align: right;\n",
       "    }\n",
       "</style>\n",
       "<table border=\"1\" class=\"dataframe\">\n",
       "  <thead>\n",
       "    <tr style=\"text-align: right;\">\n",
       "      <th></th>\n",
       "      <th>id</th>\n",
       "      <th>school_name</th>\n",
       "      <th>online_school</th>\n",
       "      <th>category</th>\n",
       "      <th>date_created</th>\n",
       "      <th>lottery</th>\n",
       "      <th>country</th>\n",
       "      <th>sync_date</th>\n",
       "      <th>date_created_2</th>\n",
       "      <th>sync_date_2</th>\n",
       "    </tr>\n",
       "  </thead>\n",
       "  <tbody>\n",
       "    <tr>\n",
       "      <th>0</th>\n",
       "      <td>759</td>\n",
       "      <td>Universtity of725</td>\n",
       "      <td>0</td>\n",
       "      <td>10</td>\n",
       "      <td>2019-09-07 00:00:00</td>\n",
       "      <td>11</td>\n",
       "      <td>US</td>\n",
       "      <td>2019-09-08 00:00:00</td>\n",
       "      <td>2019-09-07</td>\n",
       "      <td>2019-09-08</td>\n",
       "    </tr>\n",
       "    <tr>\n",
       "      <th>1</th>\n",
       "      <td>483</td>\n",
       "      <td>Universtity of1398</td>\n",
       "      <td>1</td>\n",
       "      <td>8</td>\n",
       "      <td>2019-07-19 00:00:00</td>\n",
       "      <td>19</td>\n",
       "      <td>US</td>\n",
       "      <td>2019-07-20 00:00:00</td>\n",
       "      <td>2019-07-19</td>\n",
       "      <td>2019-07-20</td>\n",
       "    </tr>\n",
       "    <tr>\n",
       "      <th>2</th>\n",
       "      <td>433</td>\n",
       "      <td>Universtity of693</td>\n",
       "      <td>1</td>\n",
       "      <td>10</td>\n",
       "      <td>2019-07-01 00:00:00</td>\n",
       "      <td>5</td>\n",
       "      <td>US</td>\n",
       "      <td>2019-07-02 00:00:00</td>\n",
       "      <td>2019-07-01</td>\n",
       "      <td>2019-07-02</td>\n",
       "    </tr>\n",
       "    <tr>\n",
       "      <th>3</th>\n",
       "      <td>728</td>\n",
       "      <td>Universtity of1104</td>\n",
       "      <td>1</td>\n",
       "      <td>9</td>\n",
       "      <td>2019-04-02 00:00:00</td>\n",
       "      <td>3</td>\n",
       "      <td>US</td>\n",
       "      <td>2019-04-03 00:00:00</td>\n",
       "      <td>2019-04-02</td>\n",
       "      <td>2019-04-03</td>\n",
       "    </tr>\n",
       "    <tr>\n",
       "      <th>4</th>\n",
       "      <td>451</td>\n",
       "      <td>Universtity of498</td>\n",
       "      <td>1</td>\n",
       "      <td>4</td>\n",
       "      <td>2019-02-17 00:00:00</td>\n",
       "      <td>10</td>\n",
       "      <td>US</td>\n",
       "      <td>2019-02-18 00:00:00</td>\n",
       "      <td>2019-02-17</td>\n",
       "      <td>2019-02-18</td>\n",
       "    </tr>\n",
       "  </tbody>\n",
       "</table>\n",
       "</div>"
      ],
      "text/plain": [
       "    id         school_name  online_school  category         date_created  \\\n",
       "0  759   Universtity of725              0        10  2019-09-07 00:00:00   \n",
       "1  483  Universtity of1398              1         8  2019-07-19 00:00:00   \n",
       "2  433   Universtity of693              1        10  2019-07-01 00:00:00   \n",
       "3  728  Universtity of1104              1         9  2019-04-02 00:00:00   \n",
       "4  451   Universtity of498              1         4  2019-02-17 00:00:00   \n",
       "\n",
       "   lottery country            sync_date date_created_2 sync_date_2  \n",
       "0       11      US  2019-09-08 00:00:00     2019-09-07  2019-09-08  \n",
       "1       19      US  2019-07-20 00:00:00     2019-07-19  2019-07-20  \n",
       "2        5      US  2019-07-02 00:00:00     2019-07-01  2019-07-02  \n",
       "3        3      US  2019-04-03 00:00:00     2019-04-02  2019-04-03  \n",
       "4       10      US  2019-02-18 00:00:00     2019-02-17  2019-02-18  "
      ]
     },
     "execution_count": 26,
     "metadata": {},
     "output_type": "execute_result"
    }
   ],
   "source": [
    "d2.head()"
   ]
  },
  {
   "cell_type": "code",
   "execution_count": 27,
   "id": "9aebb4b4-373c-4233-8477-147e33ecdd46",
   "metadata": {
    "tags": []
   },
   "outputs": [
    {
     "name": "stdout",
     "output_type": "stream",
     "text": [
      "<class 'pandas.core.frame.DataFrame'>\n",
      "RangeIndex: 846 entries, 0 to 845\n",
      "Data columns (total 10 columns):\n",
      " #   Column          Non-Null Count  Dtype         \n",
      "---  ------          --------------  -----         \n",
      " 0   id              845 non-null    object        \n",
      " 1   school_name     846 non-null    object        \n",
      " 2   online_school   846 non-null    int64         \n",
      " 3   category        846 non-null    int64         \n",
      " 4   date_created    846 non-null    object        \n",
      " 5   lottery         846 non-null    int64         \n",
      " 6   country         846 non-null    object        \n",
      " 7   sync_date       846 non-null    object        \n",
      " 8   date_created_2  846 non-null    datetime64[ns]\n",
      " 9   sync_date_2     846 non-null    datetime64[ns]\n",
      "dtypes: datetime64[ns](2), int64(3), object(5)\n",
      "memory usage: 66.2+ KB\n"
     ]
    }
   ],
   "source": [
    "# Check the new format of 'Date' column\n",
    "\n",
    "# Revisar el nuevo formato de la columna \"Date\"\n",
    "d2.info()"
   ]
  },
  {
   "cell_type": "code",
   "execution_count": null,
   "id": "ed5d8249-d9f7-4ec8-888a-e7405d6a5852",
   "metadata": {
    "tags": []
   },
   "outputs": [
    {
     "data": {
      "text/plain": [
       "1    433\n",
       "0    413\n",
       "Name: online_school, dtype: int64"
      ]
     },
     "execution_count": 28,
     "metadata": {},
     "output_type": "execute_result"
    }
   ],
   "source": [
    "d2['online_school'].value_counts()"
   ]
  },
  {
   "cell_type": "code",
   "execution_count": 29,
   "id": "75bf0d7b-b942-45e2-af43-3aaf3080c975",
   "metadata": {},
   "outputs": [],
   "source": [
    "d2.online_school = d2.online_school.astype(str)"
   ]
  },
  {
   "cell_type": "code",
   "execution_count": 33,
   "id": "6a34b0e7-6b57-404e-b855-f154557852c8",
   "metadata": {},
   "outputs": [
    {
     "data": {
      "text/plain": [
       "846"
      ]
     },
     "execution_count": 33,
     "metadata": {},
     "output_type": "execute_result"
    }
   ],
   "source": [
    "# Load datafile to the database (with replace)\n",
    "\n",
    "# Cargar el archivo a la base de datos (con replace)\n",
    "\n",
    "d1.to_sql('schools',connection,if_exists='replace')"
   ]
  },
  {
   "cell_type": "markdown",
   "id": "33083011-f939-4703-b4f2-64e3f5988b0f",
   "metadata": {},
   "source": [
    "### Instructors"
   ]
  },
  {
   "cell_type": "code",
   "execution_count": 34,
   "id": "5181c6ca-0064-49f7-a1c4-3a0bbbddc962",
   "metadata": {
    "tags": []
   },
   "outputs": [],
   "source": [
    "# Load data file\n",
    "\n",
    "# Cargar el archivo de datos\n",
    "d_instructors =  pd.read_csv('C:/Users/usuario/%Python/sql-practice/instructors.csv')"
   ]
  },
  {
   "cell_type": "code",
   "execution_count": 35,
   "id": "5ef491cc-e6b4-4b58-9ead-641fcd8eb261",
   "metadata": {
    "tags": []
   },
   "outputs": [
    {
     "data": {
      "text/html": [
       "<div>\n",
       "<style scoped>\n",
       "    .dataframe tbody tr th:only-of-type {\n",
       "        vertical-align: middle;\n",
       "    }\n",
       "\n",
       "    .dataframe tbody tr th {\n",
       "        vertical-align: top;\n",
       "    }\n",
       "\n",
       "    .dataframe thead th {\n",
       "        text-align: right;\n",
       "    }\n",
       "</style>\n",
       "<table border=\"1\" class=\"dataframe\">\n",
       "  <thead>\n",
       "    <tr style=\"text-align: right;\">\n",
       "      <th></th>\n",
       "      <th>id</th>\n",
       "      <th>school_id</th>\n",
       "      <th>course_id</th>\n",
       "      <th>email</th>\n",
       "      <th>date_created</th>\n",
       "      <th>admin</th>\n",
       "      <th>category</th>\n",
       "      <th>external_id</th>\n",
       "      <th>sync_date</th>\n",
       "    </tr>\n",
       "  </thead>\n",
       "  <tbody>\n",
       "    <tr>\n",
       "      <th>0</th>\n",
       "      <td>6410</td>\n",
       "      <td>757.0</td>\n",
       "      <td>41</td>\n",
       "      <td>64105164@email.com</td>\n",
       "      <td>2019-07-20 00:00:00</td>\n",
       "      <td>0</td>\n",
       "      <td>3</td>\n",
       "      <td>student_8472</td>\n",
       "      <td>2019-07-21 00:00:00</td>\n",
       "    </tr>\n",
       "    <tr>\n",
       "      <th>1</th>\n",
       "      <td>3515</td>\n",
       "      <td>549.0</td>\n",
       "      <td>10</td>\n",
       "      <td>35153981@email.com</td>\n",
       "      <td>2019-10-25 00:00:00</td>\n",
       "      <td>0</td>\n",
       "      <td>8</td>\n",
       "      <td>student_6471</td>\n",
       "      <td>2019-10-26 00:00:00</td>\n",
       "    </tr>\n",
       "    <tr>\n",
       "      <th>2</th>\n",
       "      <td>2866</td>\n",
       "      <td>219.0</td>\n",
       "      <td>55</td>\n",
       "      <td>28662212@email.com</td>\n",
       "      <td>2020-04-19 00:00:00</td>\n",
       "      <td>0</td>\n",
       "      <td>1</td>\n",
       "      <td>student_4156</td>\n",
       "      <td>2020-04-20 00:00:00</td>\n",
       "    </tr>\n",
       "    <tr>\n",
       "      <th>3</th>\n",
       "      <td>4762</td>\n",
       "      <td>727.0</td>\n",
       "      <td>14</td>\n",
       "      <td>47626955@email.com</td>\n",
       "      <td>2019-12-08 00:00:00</td>\n",
       "      <td>1</td>\n",
       "      <td>0</td>\n",
       "      <td>student_9495</td>\n",
       "      <td>2019-12-09 00:00:00</td>\n",
       "    </tr>\n",
       "    <tr>\n",
       "      <th>4</th>\n",
       "      <td>865</td>\n",
       "      <td>465.0</td>\n",
       "      <td>25</td>\n",
       "      <td>8655420@email.com</td>\n",
       "      <td>2020-03-16 00:00:00</td>\n",
       "      <td>0</td>\n",
       "      <td>8</td>\n",
       "      <td>student_3685</td>\n",
       "      <td>2020-03-17 00:00:00</td>\n",
       "    </tr>\n",
       "  </tbody>\n",
       "</table>\n",
       "</div>"
      ],
      "text/plain": [
       "     id  school_id  course_id               email         date_created  admin  \\\n",
       "0  6410      757.0         41  64105164@email.com  2019-07-20 00:00:00      0   \n",
       "1  3515      549.0         10  35153981@email.com  2019-10-25 00:00:00      0   \n",
       "2  2866      219.0         55  28662212@email.com  2020-04-19 00:00:00      0   \n",
       "3  4762      727.0         14  47626955@email.com  2019-12-08 00:00:00      1   \n",
       "4   865      465.0         25   8655420@email.com  2020-03-16 00:00:00      0   \n",
       "\n",
       "   category   external_id            sync_date  \n",
       "0         3  student_8472  2019-07-21 00:00:00  \n",
       "1         8  student_6471  2019-10-26 00:00:00  \n",
       "2         1  student_4156  2020-04-20 00:00:00  \n",
       "3         0  student_9495  2019-12-09 00:00:00  \n",
       "4         8  student_3685  2020-03-17 00:00:00  "
      ]
     },
     "execution_count": 35,
     "metadata": {},
     "output_type": "execute_result"
    }
   ],
   "source": [
    "d_instructors.head()"
   ]
  },
  {
   "cell_type": "code",
   "execution_count": 36,
   "id": "11834c6a-cf00-4bf3-9636-d8ec11ef80f6",
   "metadata": {
    "tags": []
   },
   "outputs": [
    {
     "name": "stdout",
     "output_type": "stream",
     "text": [
      "<class 'pandas.core.frame.DataFrame'>\n",
      "RangeIndex: 52452 entries, 0 to 52451\n",
      "Data columns (total 9 columns):\n",
      " #   Column        Non-Null Count  Dtype  \n",
      "---  ------        --------------  -----  \n",
      " 0   id            52452 non-null  int64  \n",
      " 1   school_id     52390 non-null  float64\n",
      " 2   course_id     52452 non-null  int64  \n",
      " 3   email         52452 non-null  object \n",
      " 4   date_created  52452 non-null  object \n",
      " 5   admin         52452 non-null  int64  \n",
      " 6   category      52452 non-null  int64  \n",
      " 7   external_id   52452 non-null  object \n",
      " 8   sync_date     52452 non-null  object \n",
      "dtypes: float64(1), int64(4), object(4)\n",
      "memory usage: 3.6+ MB\n"
     ]
    }
   ],
   "source": [
    "d_instructors.info()"
   ]
  },
  {
   "cell_type": "code",
   "execution_count": 37,
   "id": "5c115de7-eb2f-4395-9e5b-24634086b843",
   "metadata": {
    "tags": []
   },
   "outputs": [],
   "source": [
    "dtypes = {'id': 'str', 'school_id': 'str', 'course_id': 'str'}"
   ]
  },
  {
   "cell_type": "code",
   "execution_count": 38,
   "id": "b9c0fe32-bd75-4e3a-9428-fac802ad7256",
   "metadata": {
    "tags": []
   },
   "outputs": [],
   "source": [
    "d_instructors2 = pd.read_csv('C:/Users/usuario/%Python/sql-practice/instructors.csv',dtype=dtypes)"
   ]
  },
  {
   "cell_type": "code",
   "execution_count": 39,
   "id": "470b8b3b-3d52-4066-b300-52466449780b",
   "metadata": {},
   "outputs": [],
   "source": [
    "# Rename col\n",
    "\n",
    "# Renombrar columna\n",
    "d_instructors2.rename(columns = {'id':'instructors_id'}, inplace = True)"
   ]
  },
  {
   "cell_type": "code",
   "execution_count": 40,
   "id": "9c08fabc-13b4-4292-98da-1a617c9a90ee",
   "metadata": {},
   "outputs": [],
   "source": [
    "# Change column order making it easier to perform queries by course_id\n",
    "\n",
    "# cambio el orden para que sea más fácil usarla por course_id\n",
    "\n",
    "\n",
    "d_instructors2 = d_instructors2[['course_id', 'school_id', 'instructors_id', 'email', 'date_created','admin',\n",
    "                              'category','external_id','sync_date']]"
   ]
  },
  {
   "cell_type": "code",
   "execution_count": 41,
   "id": "e024db10-d1f7-482f-a8b1-2cce41d248ec",
   "metadata": {
    "tags": []
   },
   "outputs": [
    {
     "name": "stdout",
     "output_type": "stream",
     "text": [
      "<class 'pandas.core.frame.DataFrame'>\n",
      "RangeIndex: 52452 entries, 0 to 52451\n",
      "Data columns (total 9 columns):\n",
      " #   Column          Non-Null Count  Dtype \n",
      "---  ------          --------------  ----- \n",
      " 0   course_id       52452 non-null  object\n",
      " 1   school_id       52390 non-null  object\n",
      " 2   instructors_id  52452 non-null  object\n",
      " 3   email           52452 non-null  object\n",
      " 4   date_created    52452 non-null  object\n",
      " 5   admin           52452 non-null  int64 \n",
      " 6   category        52452 non-null  int64 \n",
      " 7   external_id     52452 non-null  object\n",
      " 8   sync_date       52452 non-null  object\n",
      "dtypes: int64(2), object(7)\n",
      "memory usage: 3.6+ MB\n"
     ]
    }
   ],
   "source": [
    "d_instructors2.info()"
   ]
  },
  {
   "cell_type": "code",
   "execution_count": 42,
   "id": "c42e4b9c-b0e1-48ff-9e96-30c18202c0d9",
   "metadata": {
    "tags": []
   },
   "outputs": [
    {
     "name": "stdout",
     "output_type": "stream",
     "text": [
      "<class 'pandas.core.frame.DataFrame'>\n",
      "RangeIndex: 52452 entries, 0 to 52451\n",
      "Data columns (total 11 columns):\n",
      " #   Column          Non-Null Count  Dtype         \n",
      "---  ------          --------------  -----         \n",
      " 0   course_id       52452 non-null  object        \n",
      " 1   school_id       52390 non-null  object        \n",
      " 2   instructors_id  52452 non-null  object        \n",
      " 3   email           52452 non-null  object        \n",
      " 4   date_created    52452 non-null  object        \n",
      " 5   admin           52452 non-null  int64         \n",
      " 6   category        52452 non-null  int64         \n",
      " 7   external_id     52452 non-null  object        \n",
      " 8   sync_date       52452 non-null  object        \n",
      " 9   date_created_2  52452 non-null  datetime64[ns]\n",
      " 10  sync_date_2     52452 non-null  datetime64[ns]\n",
      "dtypes: datetime64[ns](2), int64(2), object(7)\n",
      "memory usage: 4.4+ MB\n"
     ]
    }
   ],
   "source": [
    "# convert column to datetime format\n",
    "\n",
    "# Convertir columna a formato datetime\n",
    "\n",
    "d_instructors2['date_created_2']= pd.to_datetime(d_instructors2['date_created'])\n",
    "d_instructors2['sync_date_2']= pd.to_datetime(d_instructors2['sync_date'])\n",
    "d_instructors2.info()"
   ]
  },
  {
   "cell_type": "code",
   "execution_count": 44,
   "id": "11a20251-1240-406f-8335-6f39d9cee33a",
   "metadata": {
    "tags": []
   },
   "outputs": [
    {
     "data": {
      "text/plain": [
       "52452"
      ]
     },
     "execution_count": 44,
     "metadata": {},
     "output_type": "execute_result"
    }
   ],
   "source": [
    "# Load datafile to the database (with replace)\n",
    "\n",
    "# Cargar el archivo a la base de datos (con replace)\n",
    "\n",
    "d_instructors2.to_sql('instructors',connection,if_exists='replace')"
   ]
  },
  {
   "cell_type": "markdown",
   "id": "d837d777-a4da-48f6-9179-1945821d072b",
   "metadata": {},
   "source": [
    "### Submissions"
   ]
  },
  {
   "cell_type": "code",
   "execution_count": 10,
   "id": "72dee720-3807-49b5-b26d-c1f1fa845d1c",
   "metadata": {
    "tags": []
   },
   "outputs": [],
   "source": [
    "# Load data file\n",
    "\n",
    "# Cargar el archivo de datos\n",
    "d_submissions =  pd.read_csv('C:/Users/usuario/%Python/sql-practice/submissions.csv')"
   ]
  },
  {
   "cell_type": "code",
   "execution_count": 11,
   "id": "17ffb178-b975-4646-ac07-20c76e76e1d2",
   "metadata": {
    "tags": []
   },
   "outputs": [
    {
     "data": {
      "text/html": [
       "<div>\n",
       "<style scoped>\n",
       "    .dataframe tbody tr th:only-of-type {\n",
       "        vertical-align: middle;\n",
       "    }\n",
       "\n",
       "    .dataframe tbody tr th {\n",
       "        vertical-align: top;\n",
       "    }\n",
       "\n",
       "    .dataframe thead th {\n",
       "        text-align: right;\n",
       "    }\n",
       "</style>\n",
       "<table border=\"1\" class=\"dataframe\">\n",
       "  <thead>\n",
       "    <tr style=\"text-align: right;\">\n",
       "      <th></th>\n",
       "      <th>submission_id</th>\n",
       "      <th>user_id</th>\n",
       "      <th>course_id</th>\n",
       "      <th>assignment_submission_id</th>\n",
       "      <th>school_id</th>\n",
       "      <th>created_automatically</th>\n",
       "      <th>submission_date</th>\n",
       "      <th>deleted</th>\n",
       "      <th>active</th>\n",
       "      <th>sync_date</th>\n",
       "      <th>course_count</th>\n",
       "    </tr>\n",
       "  </thead>\n",
       "  <tbody>\n",
       "    <tr>\n",
       "      <th>0</th>\n",
       "      <td>22901</td>\n",
       "      <td>25781</td>\n",
       "      <td>27</td>\n",
       "      <td>209380</td>\n",
       "      <td>839.0</td>\n",
       "      <td>2</td>\n",
       "      <td>2019-10-24 00:00:00</td>\n",
       "      <td>0</td>\n",
       "      <td>0</td>\n",
       "      <td>2019-10-25 00:00:00</td>\n",
       "      <td>839_27</td>\n",
       "    </tr>\n",
       "    <tr>\n",
       "      <th>1</th>\n",
       "      <td>434067</td>\n",
       "      <td>21533</td>\n",
       "      <td>59</td>\n",
       "      <td>18829</td>\n",
       "      <td>79.0</td>\n",
       "      <td>1</td>\n",
       "      <td>2019-10-22 00:00:00</td>\n",
       "      <td>0</td>\n",
       "      <td>0</td>\n",
       "      <td>2019-10-23 00:00:00</td>\n",
       "      <td>79_59</td>\n",
       "    </tr>\n",
       "    <tr>\n",
       "      <th>2</th>\n",
       "      <td>330025</td>\n",
       "      <td>18278</td>\n",
       "      <td>1</td>\n",
       "      <td>13280</td>\n",
       "      <td>107.0</td>\n",
       "      <td>0</td>\n",
       "      <td>2019-03-30 00:00:00</td>\n",
       "      <td>0</td>\n",
       "      <td>1</td>\n",
       "      <td>2019-03-31 00:00:00</td>\n",
       "      <td>107_1</td>\n",
       "    </tr>\n",
       "    <tr>\n",
       "      <th>3</th>\n",
       "      <td>444610</td>\n",
       "      <td>24854</td>\n",
       "      <td>38</td>\n",
       "      <td>231269</td>\n",
       "      <td>648.0</td>\n",
       "      <td>1</td>\n",
       "      <td>2021-12-03 00:00:00</td>\n",
       "      <td>0</td>\n",
       "      <td>1</td>\n",
       "      <td>2021-12-04 00:00:00</td>\n",
       "      <td>648_38</td>\n",
       "    </tr>\n",
       "    <tr>\n",
       "      <th>4</th>\n",
       "      <td>297178</td>\n",
       "      <td>14471</td>\n",
       "      <td>60</td>\n",
       "      <td>37119</td>\n",
       "      <td>51.0</td>\n",
       "      <td>2</td>\n",
       "      <td>2019-11-23 00:00:00</td>\n",
       "      <td>0</td>\n",
       "      <td>1</td>\n",
       "      <td>2019-11-24 00:00:00</td>\n",
       "      <td>51_60</td>\n",
       "    </tr>\n",
       "  </tbody>\n",
       "</table>\n",
       "</div>"
      ],
      "text/plain": [
       "   submission_id  user_id  course_id  assignment_submission_id  school_id  \\\n",
       "0          22901    25781         27                    209380      839.0   \n",
       "1         434067    21533         59                     18829       79.0   \n",
       "2         330025    18278          1                     13280      107.0   \n",
       "3         444610    24854         38                    231269      648.0   \n",
       "4         297178    14471         60                     37119       51.0   \n",
       "\n",
       "   created_automatically      submission_date  deleted  active  \\\n",
       "0                      2  2019-10-24 00:00:00        0       0   \n",
       "1                      1  2019-10-22 00:00:00        0       0   \n",
       "2                      0  2019-03-30 00:00:00        0       1   \n",
       "3                      1  2021-12-03 00:00:00        0       1   \n",
       "4                      2  2019-11-23 00:00:00        0       1   \n",
       "\n",
       "             sync_date course_count  \n",
       "0  2019-10-25 00:00:00       839_27  \n",
       "1  2019-10-23 00:00:00        79_59  \n",
       "2  2019-03-31 00:00:00        107_1  \n",
       "3  2021-12-04 00:00:00       648_38  \n",
       "4  2019-11-24 00:00:00        51_60  "
      ]
     },
     "execution_count": 11,
     "metadata": {},
     "output_type": "execute_result"
    }
   ],
   "source": [
    "d_submissions.head()"
   ]
  },
  {
   "cell_type": "code",
   "execution_count": 12,
   "id": "61de36bf-e904-4b6e-ad0d-167e84bebdf7",
   "metadata": {
    "tags": []
   },
   "outputs": [
    {
     "name": "stdout",
     "output_type": "stream",
     "text": [
      "<class 'pandas.core.frame.DataFrame'>\n",
      "RangeIndex: 1000000 entries, 0 to 999999\n",
      "Data columns (total 11 columns):\n",
      " #   Column                    Non-Null Count    Dtype  \n",
      "---  ------                    --------------    -----  \n",
      " 0   submission_id             1000000 non-null  int64  \n",
      " 1   user_id                   1000000 non-null  int64  \n",
      " 2   course_id                 1000000 non-null  int64  \n",
      " 3   assignment_submission_id  1000000 non-null  int64  \n",
      " 4   school_id                 998824 non-null   float64\n",
      " 5   created_automatically     1000000 non-null  int64  \n",
      " 6   submission_date           1000000 non-null  object \n",
      " 7   deleted                   1000000 non-null  int64  \n",
      " 8   active                    1000000 non-null  int64  \n",
      " 9   sync_date                 1000000 non-null  object \n",
      " 10  course_count              1000000 non-null  object \n",
      "dtypes: float64(1), int64(7), object(3)\n",
      "memory usage: 83.9+ MB\n"
     ]
    }
   ],
   "source": [
    "d_submissions.info()"
   ]
  },
  {
   "cell_type": "code",
   "execution_count": 13,
   "id": "3953786a-e22c-422f-9e88-ff7ed3f9122e",
   "metadata": {
    "tags": []
   },
   "outputs": [
    {
     "data": {
      "text/plain": [
       "(1000000, 11)"
      ]
     },
     "execution_count": 13,
     "metadata": {},
     "output_type": "execute_result"
    }
   ],
   "source": [
    "# Submissions looks big (rows and columns)\n",
    "\n",
    "# Submissions es una archivo grande (ver cantidad de filas y columnas)\n",
    "d_submissions.shape"
   ]
  },
  {
   "cell_type": "code",
   "execution_count": 14,
   "id": "03ba50ac-51e4-4562-9f34-b08f87987d5d",
   "metadata": {
    "tags": []
   },
   "outputs": [],
   "source": [
    "# All Id to str (changing the format)\n",
    "\n",
    "# Todos los Id a str (cambiando el formato)\n",
    "dtypes = {'submission_id': 'str', 'user_id': 'str', 'course_id': 'str', 'assignment_submission_id': 'str',\n",
    "         'school_id': 'str'}"
   ]
  },
  {
   "cell_type": "code",
   "execution_count": 15,
   "id": "bad999de-df92-4732-8e90-90cdb395b0ba",
   "metadata": {
    "tags": []
   },
   "outputs": [
    {
     "name": "stdout",
     "output_type": "stream",
     "text": [
      "<class 'pandas.core.frame.DataFrame'>\n",
      "RangeIndex: 1000000 entries, 0 to 999999\n",
      "Data columns (total 11 columns):\n",
      " #   Column                    Non-Null Count    Dtype \n",
      "---  ------                    --------------    ----- \n",
      " 0   submission_id             1000000 non-null  object\n",
      " 1   user_id                   1000000 non-null  object\n",
      " 2   course_id                 1000000 non-null  object\n",
      " 3   assignment_submission_id  1000000 non-null  object\n",
      " 4   school_id                 998824 non-null   object\n",
      " 5   created_automatically     1000000 non-null  int64 \n",
      " 6   submission_date           1000000 non-null  object\n",
      " 7   deleted                   1000000 non-null  int64 \n",
      " 8   active                    1000000 non-null  int64 \n",
      " 9   sync_date                 1000000 non-null  object\n",
      " 10  course_count              1000000 non-null  object\n",
      "dtypes: int64(3), object(8)\n",
      "memory usage: 83.9+ MB\n"
     ]
    }
   ],
   "source": [
    "d_submissions2 = pd.read_csv('C:/Users/usuario/%Python/sql-practice/submissions.csv',dtype=dtypes)\n",
    "d_submissions2.info()"
   ]
  },
  {
   "cell_type": "code",
   "execution_count": 16,
   "id": "a055e8a2-c9d4-4d4c-b185-cddab139e18d",
   "metadata": {
    "tags": []
   },
   "outputs": [
    {
     "name": "stdout",
     "output_type": "stream",
     "text": [
      "<class 'pandas.core.frame.DataFrame'>\n",
      "RangeIndex: 1000000 entries, 0 to 999999\n",
      "Data columns (total 13 columns):\n",
      " #   Column                    Non-Null Count    Dtype         \n",
      "---  ------                    --------------    -----         \n",
      " 0   submission_id             1000000 non-null  object        \n",
      " 1   user_id                   1000000 non-null  object        \n",
      " 2   course_id                 1000000 non-null  object        \n",
      " 3   assignment_submission_id  1000000 non-null  object        \n",
      " 4   school_id                 998824 non-null   object        \n",
      " 5   created_automatically     1000000 non-null  int64         \n",
      " 6   submission_date           1000000 non-null  object        \n",
      " 7   deleted                   1000000 non-null  int64         \n",
      " 8   active                    1000000 non-null  int64         \n",
      " 9   sync_date                 1000000 non-null  object        \n",
      " 10  course_count              1000000 non-null  object        \n",
      " 11  submission_date_2         1000000 non-null  datetime64[ns]\n",
      " 12  sync_date_2               1000000 non-null  datetime64[ns]\n",
      "dtypes: datetime64[ns](2), int64(3), object(8)\n",
      "memory usage: 99.2+ MB\n"
     ]
    }
   ],
   "source": [
    "# convert column to datetime format\n",
    "\n",
    "# Convertir columna a formato datetime\n",
    "\n",
    "d_submissions2['submission_date_2']= pd.to_datetime(d_submissions2['submission_date'])\n",
    "d_submissions2['sync_date_2']= pd.to_datetime(d_submissions2['sync_date'])\n",
    "d_submissions2.info()"
   ]
  },
  {
   "cell_type": "code",
   "execution_count": 17,
   "id": "2152afad-82bc-49a1-8a2c-dbc580b13529",
   "metadata": {
    "tags": []
   },
   "outputs": [
    {
     "data": {
      "text/plain": [
       "1    500334\n",
       "0    499666\n",
       "Name: active, dtype: int64"
      ]
     },
     "execution_count": 17,
     "metadata": {},
     "output_type": "execute_result"
    }
   ],
   "source": [
    "d_submissions2['active'].value_counts()"
   ]
  },
  {
   "cell_type": "code",
   "execution_count": 18,
   "id": "5b7aeb9c-e52e-444d-b45e-8741ac83df50",
   "metadata": {
    "tags": []
   },
   "outputs": [
    {
     "data": {
      "text/plain": [
       "datetime.date(2019, 1, 1)"
      ]
     },
     "execution_count": 18,
     "metadata": {},
     "output_type": "execute_result"
    }
   ],
   "source": [
    "d_submissions2['submission_date_2'].dt.date.min()"
   ]
  },
  {
   "cell_type": "code",
   "execution_count": 19,
   "id": "8dc495a5-0580-4fb7-9d95-a892010e1bc6",
   "metadata": {
    "tags": []
   },
   "outputs": [
    {
     "data": {
      "text/plain": [
       "datetime.date(2022, 11, 1)"
      ]
     },
     "execution_count": 19,
     "metadata": {},
     "output_type": "execute_result"
    }
   ],
   "source": [
    "d_submissions2['submission_date_2'].dt.date.max()"
   ]
  },
  {
   "cell_type": "code",
   "execution_count": 38,
   "id": "ccc779b7-d8f0-4ff2-8ef3-91830e046e53",
   "metadata": {
    "tags": []
   },
   "outputs": [],
   "source": [
    "# For this example let's use 2021-2022-2023.\n",
    "\n",
    "# Para este ejemplo usemos solo 2021-2022-2023.\n",
    "start_date = '2021-12-31'\n",
    "#end_date = '2019-03-30'"
   ]
  },
  {
   "cell_type": "code",
   "execution_count": 39,
   "id": "c239a4fb-9985-4c83-a2c2-89bd0e19b6ab",
   "metadata": {
    "tags": []
   },
   "outputs": [],
   "source": [
    "#mask = (d_submissions2['submission_date_2'] > start_date) & (d_submissions2['submission_date_2'] <= end_date)\n",
    "mask = (d_submissions2['submission_date_2'] > start_date)"
   ]
  },
  {
   "cell_type": "code",
   "execution_count": 40,
   "id": "38da8bdf-72f2-4a36-8139-b70c8b787270",
   "metadata": {
    "tags": []
   },
   "outputs": [],
   "source": [
    "d_submissions3 = d_submissions2.loc[mask]"
   ]
  },
  {
   "cell_type": "code",
   "execution_count": 41,
   "id": "ec492bbc-a273-4a6b-b69e-e48c4606ddb2",
   "metadata": {
    "tags": []
   },
   "outputs": [
    {
     "data": {
      "text/plain": [
       "(217810, 13)"
      ]
     },
     "execution_count": 41,
     "metadata": {},
     "output_type": "execute_result"
    }
   ],
   "source": [
    "d_submissions3.shape"
   ]
  },
  {
   "cell_type": "code",
   "execution_count": 42,
   "id": "8bbe8213-f756-4ca1-b3ef-5f310891b3a4",
   "metadata": {
    "tags": []
   },
   "outputs": [
    {
     "data": {
      "text/plain": [
       "datetime.date(2022, 1, 1)"
      ]
     },
     "execution_count": 42,
     "metadata": {},
     "output_type": "execute_result"
    }
   ],
   "source": [
    "d_submissions3['submission_date_2'].dt.date.min()"
   ]
  },
  {
   "cell_type": "code",
   "execution_count": 43,
   "id": "6b26dac1-bbca-4878-87b8-c178cc2c4168",
   "metadata": {
    "tags": []
   },
   "outputs": [
    {
     "data": {
      "text/plain": [
       "datetime.date(2022, 11, 1)"
      ]
     },
     "execution_count": 43,
     "metadata": {},
     "output_type": "execute_result"
    }
   ],
   "source": [
    "d_submissions3['submission_date_2'].dt.date.max()"
   ]
  },
  {
   "cell_type": "code",
   "execution_count": 64,
   "id": "ce8721a3-cba8-41b5-9098-6795db750622",
   "metadata": {
    "tags": []
   },
   "outputs": [
    {
     "data": {
      "text/plain": [
       "478382"
      ]
     },
     "execution_count": 64,
     "metadata": {},
     "output_type": "execute_result"
    }
   ],
   "source": [
    "# Load datafile to the database (with replace)\n",
    "\n",
    "# Cargar el archivo a la base de datos (con replace)\n",
    "\n",
    "d_submissions3.to_sql('submissions',connection,if_exists='replace')"
   ]
  },
  {
   "cell_type": "code",
   "execution_count": 44,
   "id": "4fe88e32-4e44-45c8-8565-2f3c0379beb7",
   "metadata": {
    "tags": []
   },
   "outputs": [
    {
     "data": {
      "text/plain": [
       "(217810, 13)"
      ]
     },
     "execution_count": 44,
     "metadata": {},
     "output_type": "execute_result"
    }
   ],
   "source": [
    "d_submissions3.shape"
   ]
  },
  {
   "cell_type": "code",
   "execution_count": 45,
   "id": "52f715ea-484f-49db-911c-2b331b65b312",
   "metadata": {
    "tags": []
   },
   "outputs": [],
   "source": [
    "compression_opts = dict(method='zip',\n",
    "                        archive_name='out.csv')  \n",
    "d_submissions3.to_csv('submissions.zip', index=False,\n",
    "          compression=compression_opts) "
   ]
  },
  {
   "cell_type": "code",
   "execution_count": 47,
   "id": "ef13a4cc-7ffc-4a44-be9a-8429d7c0ec17",
   "metadata": {
    "tags": []
   },
   "outputs": [],
   "source": [
    "d_submissions3.to_csv('submmissions.csv', index=False)"
   ]
  },
  {
   "cell_type": "code",
   "execution_count": null,
   "id": "30d7dd35-277e-4270-8384-db101f2e905f",
   "metadata": {},
   "outputs": [],
   "source": []
  },
  {
   "cell_type": "code",
   "execution_count": null,
   "id": "da2e10c6-9cd8-49fb-8382-2bd8f3ffd835",
   "metadata": {},
   "outputs": [],
   "source": []
  },
  {
   "cell_type": "markdown",
   "id": "45947536-2bdd-486a-a978-739b1a923824",
   "metadata": {},
   "source": [
    "### Courses"
   ]
  },
  {
   "cell_type": "code",
   "execution_count": 66,
   "id": "9a4465b4-de43-4c50-9054-24d01ff2b0c9",
   "metadata": {
    "tags": []
   },
   "outputs": [
    {
     "data": {
      "text/html": [
       "<div>\n",
       "<style scoped>\n",
       "    .dataframe tbody tr th:only-of-type {\n",
       "        vertical-align: middle;\n",
       "    }\n",
       "\n",
       "    .dataframe tbody tr th {\n",
       "        vertical-align: top;\n",
       "    }\n",
       "\n",
       "    .dataframe thead th {\n",
       "        text-align: right;\n",
       "    }\n",
       "</style>\n",
       "<table border=\"1\" class=\"dataframe\">\n",
       "  <thead>\n",
       "    <tr style=\"text-align: right;\">\n",
       "      <th></th>\n",
       "      <th>id</th>\n",
       "      <th>course_name</th>\n",
       "      <th>date_created</th>\n",
       "      <th>school_id</th>\n",
       "      <th>public_course</th>\n",
       "      <th>category</th>\n",
       "      <th>sync_date</th>\n",
       "    </tr>\n",
       "  </thead>\n",
       "  <tbody>\n",
       "    <tr>\n",
       "      <th>0</th>\n",
       "      <td>6900</td>\n",
       "      <td>biology569</td>\n",
       "      <td>2019-11-27 00:00:00</td>\n",
       "      <td>100.0</td>\n",
       "      <td>1</td>\n",
       "      <td>6</td>\n",
       "      <td>2019-11-28 00:00:00</td>\n",
       "    </tr>\n",
       "    <tr>\n",
       "      <th>1</th>\n",
       "      <td>6901</td>\n",
       "      <td>biology1049</td>\n",
       "      <td>2020-08-06 00:00:00</td>\n",
       "      <td>261.0</td>\n",
       "      <td>0</td>\n",
       "      <td>8</td>\n",
       "      <td>2020-08-07 00:00:00</td>\n",
       "    </tr>\n",
       "    <tr>\n",
       "      <th>2</th>\n",
       "      <td>6902</td>\n",
       "      <td>biology725</td>\n",
       "      <td>2020-03-29 00:00:00</td>\n",
       "      <td>322.0</td>\n",
       "      <td>0</td>\n",
       "      <td>6</td>\n",
       "      <td>2020-03-30 00:00:00</td>\n",
       "    </tr>\n",
       "    <tr>\n",
       "      <th>3</th>\n",
       "      <td>6903</td>\n",
       "      <td>biology427</td>\n",
       "      <td>2020-08-06 00:00:00</td>\n",
       "      <td>54.0</td>\n",
       "      <td>0</td>\n",
       "      <td>7</td>\n",
       "      <td>2020-08-07 00:00:00</td>\n",
       "    </tr>\n",
       "    <tr>\n",
       "      <th>4</th>\n",
       "      <td>6904</td>\n",
       "      <td>biology1139</td>\n",
       "      <td>2019-03-14 00:00:00</td>\n",
       "      <td>218.0</td>\n",
       "      <td>0</td>\n",
       "      <td>8</td>\n",
       "      <td>2019-03-15 00:00:00</td>\n",
       "    </tr>\n",
       "  </tbody>\n",
       "</table>\n",
       "</div>"
      ],
      "text/plain": [
       "     id  course_name         date_created  school_id  public_course  category  \\\n",
       "0  6900   biology569  2019-11-27 00:00:00      100.0              1         6   \n",
       "1  6901  biology1049  2020-08-06 00:00:00      261.0              0         8   \n",
       "2  6902   biology725  2020-03-29 00:00:00      322.0              0         6   \n",
       "3  6903   biology427  2020-08-06 00:00:00       54.0              0         7   \n",
       "4  6904  biology1139  2019-03-14 00:00:00      218.0              0         8   \n",
       "\n",
       "             sync_date  \n",
       "0  2019-11-28 00:00:00  \n",
       "1  2020-08-07 00:00:00  \n",
       "2  2020-03-30 00:00:00  \n",
       "3  2020-08-07 00:00:00  \n",
       "4  2019-03-15 00:00:00  "
      ]
     },
     "execution_count": 66,
     "metadata": {},
     "output_type": "execute_result"
    }
   ],
   "source": [
    "d_courses =  pd.read_csv('C:/Users/usuario/%Python/sql-practice/courses.csv')\n",
    "d_courses.head()"
   ]
  },
  {
   "cell_type": "code",
   "execution_count": 67,
   "id": "b762d53c-64c6-4d01-b534-0b551782e2df",
   "metadata": {
    "tags": []
   },
   "outputs": [
    {
     "name": "stdout",
     "output_type": "stream",
     "text": [
      "<class 'pandas.core.frame.DataFrame'>\n",
      "RangeIndex: 55039 entries, 0 to 55038\n",
      "Data columns (total 7 columns):\n",
      " #   Column         Non-Null Count  Dtype  \n",
      "---  ------         --------------  -----  \n",
      " 0   id             55039 non-null  int64  \n",
      " 1   course_name    55039 non-null  object \n",
      " 2   date_created   55039 non-null  object \n",
      " 3   school_id      54977 non-null  float64\n",
      " 4   public_course  55039 non-null  int64  \n",
      " 5   category       55039 non-null  int64  \n",
      " 6   sync_date      55039 non-null  object \n",
      "dtypes: float64(1), int64(3), object(3)\n",
      "memory usage: 2.9+ MB\n"
     ]
    }
   ],
   "source": [
    "d_courses.info()"
   ]
  },
  {
   "cell_type": "code",
   "execution_count": 68,
   "id": "051fd33e-1176-4dfa-bbd8-9d498786c042",
   "metadata": {},
   "outputs": [],
   "source": [
    "dtypes = {'id': 'str', 'school_id': 'str'}"
   ]
  },
  {
   "cell_type": "code",
   "execution_count": 70,
   "id": "25a3b233-3fa5-4744-bf2d-df5bc1145f98",
   "metadata": {
    "tags": []
   },
   "outputs": [
    {
     "name": "stdout",
     "output_type": "stream",
     "text": [
      "<class 'pandas.core.frame.DataFrame'>\n",
      "RangeIndex: 55039 entries, 0 to 55038\n",
      "Data columns (total 7 columns):\n",
      " #   Column         Non-Null Count  Dtype \n",
      "---  ------         --------------  ----- \n",
      " 0   id             55039 non-null  object\n",
      " 1   course_name    55039 non-null  object\n",
      " 2   date_created   55039 non-null  object\n",
      " 3   school_id      54977 non-null  object\n",
      " 4   public_course  55039 non-null  int64 \n",
      " 5   category       55039 non-null  int64 \n",
      " 6   sync_date      55039 non-null  object\n",
      "dtypes: int64(2), object(5)\n",
      "memory usage: 2.9+ MB\n"
     ]
    }
   ],
   "source": [
    "d_courses2 = pd.read_csv('C:/Users/usuario/%Python/sql-practice/courses.csv',dtype=dtypes)\n",
    "d_courses2.info()"
   ]
  },
  {
   "cell_type": "code",
   "execution_count": 71,
   "id": "2e7235e6-710f-40bc-8824-4cece64db660",
   "metadata": {
    "tags": []
   },
   "outputs": [
    {
     "data": {
      "text/plain": [
       "0    27872\n",
       "1    27167\n",
       "Name: public_course, dtype: int64"
      ]
     },
     "execution_count": 71,
     "metadata": {},
     "output_type": "execute_result"
    }
   ],
   "source": [
    "d_courses2['public_course'].value_counts()"
   ]
  },
  {
   "cell_type": "code",
   "execution_count": 72,
   "id": "2cd25299-52cd-4e0f-af2a-61da9ca34ab5",
   "metadata": {
    "tags": []
   },
   "outputs": [
    {
     "data": {
      "text/plain": [
       "6    6340\n",
       "0    6222\n",
       "8    6162\n",
       "5    6149\n",
       "4    6079\n",
       "1    6063\n",
       "2    6038\n",
       "3    5997\n",
       "7    5989\n",
       "Name: category, dtype: int64"
      ]
     },
     "execution_count": 72,
     "metadata": {},
     "output_type": "execute_result"
    }
   ],
   "source": [
    "d_courses2['category'].value_counts()"
   ]
  },
  {
   "cell_type": "code",
   "execution_count": 73,
   "id": "95a927a2-1d1b-45e9-9e17-efc7dfddd007",
   "metadata": {
    "tags": []
   },
   "outputs": [],
   "source": [
    "d_courses2.category = d_courses2.category.astype(str)"
   ]
  },
  {
   "cell_type": "code",
   "execution_count": 74,
   "id": "ef72ddf2-0657-441e-bc03-5817bad15a31",
   "metadata": {
    "tags": []
   },
   "outputs": [],
   "source": [
    "d_courses2.public_course = d_courses2.public_course.astype(str)"
   ]
  },
  {
   "cell_type": "code",
   "execution_count": 75,
   "id": "6111ff7f-d285-463e-956a-9aefa8ced3f0",
   "metadata": {
    "tags": []
   },
   "outputs": [
    {
     "name": "stdout",
     "output_type": "stream",
     "text": [
      "<class 'pandas.core.frame.DataFrame'>\n",
      "RangeIndex: 55039 entries, 0 to 55038\n",
      "Data columns (total 7 columns):\n",
      " #   Column         Non-Null Count  Dtype \n",
      "---  ------         --------------  ----- \n",
      " 0   id             55039 non-null  object\n",
      " 1   course_name    55039 non-null  object\n",
      " 2   date_created   55039 non-null  object\n",
      " 3   school_id      54977 non-null  object\n",
      " 4   public_course  55039 non-null  object\n",
      " 5   category       55039 non-null  object\n",
      " 6   sync_date      55039 non-null  object\n",
      "dtypes: object(7)\n",
      "memory usage: 2.9+ MB\n"
     ]
    }
   ],
   "source": [
    "d_courses2.info()"
   ]
  },
  {
   "cell_type": "code",
   "execution_count": 76,
   "id": "9ce20fb9-777a-40fa-a4b6-036050f79c9e",
   "metadata": {
    "tags": []
   },
   "outputs": [
    {
     "name": "stdout",
     "output_type": "stream",
     "text": [
      "<class 'pandas.core.frame.DataFrame'>\n",
      "RangeIndex: 55039 entries, 0 to 55038\n",
      "Data columns (total 9 columns):\n",
      " #   Column          Non-Null Count  Dtype         \n",
      "---  ------          --------------  -----         \n",
      " 0   id              55039 non-null  object        \n",
      " 1   course_name     55039 non-null  object        \n",
      " 2   date_created    55039 non-null  object        \n",
      " 3   school_id       54977 non-null  object        \n",
      " 4   public_course   55039 non-null  object        \n",
      " 5   category        55039 non-null  object        \n",
      " 6   sync_date       55039 non-null  object        \n",
      " 7   date_created_2  55039 non-null  datetime64[ns]\n",
      " 8   sync_date_2     55039 non-null  datetime64[ns]\n",
      "dtypes: datetime64[ns](2), object(7)\n",
      "memory usage: 3.8+ MB\n"
     ]
    }
   ],
   "source": [
    "d_courses2['date_created_2']= pd.to_datetime(d_courses2['date_created'])\n",
    "d_courses2['sync_date_2']= pd.to_datetime(d_courses2['sync_date'])\n",
    "d_courses2.info()"
   ]
  },
  {
   "cell_type": "code",
   "execution_count": 77,
   "id": "7b5bf90f-847a-4570-a470-945dcb659fd1",
   "metadata": {
    "tags": []
   },
   "outputs": [
    {
     "data": {
      "text/plain": [
       "55039"
      ]
     },
     "execution_count": 77,
     "metadata": {},
     "output_type": "execute_result"
    }
   ],
   "source": [
    "d_courses2.to_sql('courses',connection,if_exists='replace')"
   ]
  },
  {
   "cell_type": "markdown",
   "id": "20c20a58-72b6-4437-ad59-f2b07166b382",
   "metadata": {},
   "source": [
    "### Users"
   ]
  },
  {
   "cell_type": "code",
   "execution_count": 89,
   "id": "af5f7844-9aeb-42b9-b46a-f84b493b4b8d",
   "metadata": {
    "tags": []
   },
   "outputs": [],
   "source": [
    "d_users =  pd.read_csv('C:/Users/usuario/%Python/sql-practice/users.csv')"
   ]
  },
  {
   "cell_type": "code",
   "execution_count": 90,
   "id": "7c5a0166-9e7c-4aad-89ae-d26daee4169f",
   "metadata": {
    "tags": []
   },
   "outputs": [
    {
     "data": {
      "text/html": [
       "<div>\n",
       "<style scoped>\n",
       "    .dataframe tbody tr th:only-of-type {\n",
       "        vertical-align: middle;\n",
       "    }\n",
       "\n",
       "    .dataframe tbody tr th {\n",
       "        vertical-align: top;\n",
       "    }\n",
       "\n",
       "    .dataframe thead th {\n",
       "        text-align: right;\n",
       "    }\n",
       "</style>\n",
       "<table border=\"1\" class=\"dataframe\">\n",
       "  <thead>\n",
       "    <tr style=\"text-align: right;\">\n",
       "      <th></th>\n",
       "      <th>id</th>\n",
       "      <th>email</th>\n",
       "      <th>external_id</th>\n",
       "      <th>date_created</th>\n",
       "      <th>admin</th>\n",
       "      <th>category</th>\n",
       "      <th>sync_date</th>\n",
       "    </tr>\n",
       "  </thead>\n",
       "  <tbody>\n",
       "    <tr>\n",
       "      <th>0</th>\n",
       "      <td>19077</td>\n",
       "      <td>190777503@email.com</td>\n",
       "      <td>student_8644</td>\n",
       "      <td>2019-01-07 00:00:00</td>\n",
       "      <td>0</td>\n",
       "      <td>8</td>\n",
       "      <td>2019-01-08 00:00:00</td>\n",
       "    </tr>\n",
       "    <tr>\n",
       "      <th>1</th>\n",
       "      <td>8459</td>\n",
       "      <td>84599050@email.com</td>\n",
       "      <td>student_1230</td>\n",
       "      <td>2020-08-14 00:00:00</td>\n",
       "      <td>1</td>\n",
       "      <td>0</td>\n",
       "      <td>2020-08-15 00:00:00</td>\n",
       "    </tr>\n",
       "    <tr>\n",
       "      <th>2</th>\n",
       "      <td>457</td>\n",
       "      <td>4574423@email.com</td>\n",
       "      <td>student_5666</td>\n",
       "      <td>2019-09-19 00:00:00</td>\n",
       "      <td>1</td>\n",
       "      <td>6</td>\n",
       "      <td>2019-09-20 00:00:00</td>\n",
       "    </tr>\n",
       "    <tr>\n",
       "      <th>3</th>\n",
       "      <td>77</td>\n",
       "      <td>773297@email.com</td>\n",
       "      <td>student_7844</td>\n",
       "      <td>2019-10-31 00:00:00</td>\n",
       "      <td>0</td>\n",
       "      <td>9</td>\n",
       "      <td>2019-11-01 00:00:00</td>\n",
       "    </tr>\n",
       "    <tr>\n",
       "      <th>4</th>\n",
       "      <td>7125</td>\n",
       "      <td>71258995@email.com</td>\n",
       "      <td>student_8925</td>\n",
       "      <td>2019-06-22 00:00:00</td>\n",
       "      <td>0</td>\n",
       "      <td>8</td>\n",
       "      <td>2019-06-23 00:00:00</td>\n",
       "    </tr>\n",
       "  </tbody>\n",
       "</table>\n",
       "</div>"
      ],
      "text/plain": [
       "      id                email   external_id         date_created  admin  \\\n",
       "0  19077  190777503@email.com  student_8644  2019-01-07 00:00:00      0   \n",
       "1   8459   84599050@email.com  student_1230  2020-08-14 00:00:00      1   \n",
       "2    457    4574423@email.com  student_5666  2019-09-19 00:00:00      1   \n",
       "3     77     773297@email.com  student_7844  2019-10-31 00:00:00      0   \n",
       "4   7125   71258995@email.com  student_8925  2019-06-22 00:00:00      0   \n",
       "\n",
       "   category            sync_date  \n",
       "0         8  2019-01-08 00:00:00  \n",
       "1         0  2020-08-15 00:00:00  \n",
       "2         6  2019-09-20 00:00:00  \n",
       "3         9  2019-11-01 00:00:00  \n",
       "4         8  2019-06-23 00:00:00  "
      ]
     },
     "execution_count": 90,
     "metadata": {},
     "output_type": "execute_result"
    }
   ],
   "source": [
    "d_users.head()"
   ]
  },
  {
   "cell_type": "code",
   "execution_count": 93,
   "id": "6a9c44bf-8253-40ce-acbe-635743175412",
   "metadata": {
    "tags": []
   },
   "outputs": [
    {
     "data": {
      "text/plain": [
       "27985"
      ]
     },
     "execution_count": 93,
     "metadata": {},
     "output_type": "execute_result"
    }
   ],
   "source": [
    "d_users.to_sql('users',connection,if_exists='replace')"
   ]
  }
 ],
 "metadata": {
  "kernelspec": {
   "display_name": "Python 3 (ipykernel)",
   "language": "python",
   "name": "python3"
  },
  "language_info": {
   "codemirror_mode": {
    "name": "ipython",
    "version": 3
   },
   "file_extension": ".py",
   "mimetype": "text/x-python",
   "name": "python",
   "nbconvert_exporter": "python",
   "pygments_lexer": "ipython3",
   "version": "3.11.4"
  },
  "toc-autonumbering": false,
  "toc-showmarkdowntxt": true
 },
 "nbformat": 4,
 "nbformat_minor": 5
}
